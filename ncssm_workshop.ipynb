{
 "cells": [
  {
   "cell_type": "markdown",
   "metadata": {
    "colab_type": "text",
    "id": "view-in-github"
   },
   "source": [
    "<a href=\"https://colab.research.google.com/github/tomorrownow/intro-to-geoprocessing-workshop/blob/main/ncssm_workshop\" target=\"_parent\"><img src=\"https://colab.research.google.com/assets/colab-badge.svg\" alt=\"Open In Colab\"/></a>"
   ]
  },
  {
   "cell_type": "markdown",
   "metadata": {},
   "source": [
    "# Intro to Geoprocessing with the GRASS GIS Geoprocessing Engine\n",
    "\n",
    "This notebook is an introduction to geoprocessing with [GRASS GIS](https://grass.osgeo.org). We aim to introduce you to the basics concepts of Geographic Information Systems (GIS) and how to use GRASS GIS to perform geoprocessing tasks.\n",
    "\n",
    "\n",
    "<!-- ![Fun image](./images/flooding_background.png) -->\n",
    "\n",
    "## What is GIS?  \n",
    "GIS is a system designed to capture, store, manipulate, analyze, manage, and present spatial or geographic data. GIS applications are tools that allow users to create interactive queries (user-created searches), analyze spatial information, edit data in maps, and present the results of all these operations.\n",
    "\n",
    "There are many GIS software solutions that each perform well at differnt tasks.\n",
    "\n",
    "The two most widely GIS desktop solutions are.\n",
    "\n",
    "- ArcGIS Pro (Proprietary)\n",
    "- QGIS (Open Source)\n",
    "\n",
    "GRASS GIS can be used as a desktop GIS solution, but it really thrives as a **geospatial processing engine**.\n",
    "\n",
    "## What is a Geospatial Processing Engine?\n",
    "\n",
    "A geospatial processing engine is a tool that allows to efficiently manipulate geospatial data through the development of scriptable geoprocesing workflows. Geoprocessing engines can be used on a local machine, distributed on the cloud, or on HPC (high performance computing) clusters (i.e., super computers).\n",
    "\n",
    "With GRASS you can effiently process geospatial data with over 800 tools or develop your own models or tools using its C and Python APIs.\n",
    "\n",
    "The tools are prefixed to reflect the type of data they are designe to work with.\n",
    "\n",
    "* d.* - display commands for graphical screen output: d.rast, d.vect, d.sites, d.mon\n",
    "* g.* - general file management commands: g.list, g.copy\n",
    "* i.* - image processing commands\n",
    "* r.* - raster processing commands: r.slope.aspect, r.mapcalc\n",
    "* v.* - vector processing commands: v.digit, v.to.rast\n",
    "* db.* - dabase commands: db.selet\n",
    "* r3.* - 3d raster\n",
    "* t.* - temporal\n",
    "* m.* - Miscellaneous"
   ]
  },
  {
   "cell_type": "code",
   "execution_count": null,
   "metadata": {},
   "outputs": [],
   "source": [
    "from IPython.display import IFrame\n",
    "\n",
    "# URL of the website to be embedded\n",
    "url = 'https://earth.nullschool.net/'\n",
    "\n",
    "# Dimensions of the IFrame\n",
    "width = 800\n",
    "height = 600\n",
    "\n",
    "# Display the IFrame in the notebook\n",
    "IFrame(url, width=width, height=height)"
   ]
  },
  {
   "cell_type": "markdown",
   "metadata": {
    "id": "lKKJNOcBoEoN"
   },
   "source": [
    "## Let's Jump in\n",
    "\n",
    "![deepend.webp](https://github.com/tomorrownow/intro-to-geoprocessing-workshop/blob/main/images/deepend.webp?raw=true)\n",
    "\n",
    "### Install GRASS GIS"
   ]
  },
  {
   "cell_type": "code",
   "execution_count": null,
   "metadata": {
    "id": "xpO6AzjdoKwF"
   },
   "outputs": [],
   "source": [
    "%%bash\n",
    "\n",
    "apt-get install grass grass-dev grass-doc\n",
    "# leave the directory with source code\n",
    "cd ~\n",
    "\n",
    "# download sample data\n",
    "mkdir -p grassdata\n",
    "mkdir -p output\n",
    "curl -SL https://grass.osgeo.org/sampledata/north_carolina/nc_basic_spm_grass7.zip > nc_basic_spm_grass7.zip\n",
    "unzip -qq nc_basic_spm_grass7.zip\n",
    "mv nc_basic_spm_grass7 grassdata\n",
    "rm nc_basic_spm_grass7.zip\n",
    "\n",
    "curl -SL https://storage.googleapis.com/public_grassdata/ncssm_workshop_data/ncssm.zip > ncssm.zip\n",
    "unzip -qq ncssm.zip\n",
    "mv ncssm grassdata/nc_basic_spm_grass7\n",
    "rm ncssm.zip\n"
   ]
  },
  {
   "cell_type": "code",
   "execution_count": null,
   "metadata": {
    "id": "sSktnmtmpwA6"
   },
   "outputs": [],
   "source": [
    "import os\n",
    "os.chdir(os.path.expanduser(\"~\"))"
   ]
  },
  {
   "cell_type": "markdown",
   "metadata": {},
   "source": [
    "### Create a GRASS Project\n",
    "\n",
    "A project in GRASS is called a `Location`. Each location has subprojects called `Mapsets`. A mapset is a directory containing maps, which are the basic data layer in GRASS."
   ]
  },
  {
   "cell_type": "code",
   "execution_count": null,
   "metadata": {},
   "outputs": [],
   "source": [
    "# ! means that we are running a command in the shell\n",
    "!grass -e -c ./grassdata/nc_basic_spm_grass7/tutorial"
   ]
  },
  {
   "cell_type": "markdown",
   "metadata": {},
   "source": [
    "![grassdata](https://github.com/tomorrownow/intro-to-geoprocessing-workshop/blob/main/images/grass_database.png?raw=true)\n",
    "[Learn More](https://grass.osgeo.org/grass83/manuals/grass_database.html)"
   ]
  },
  {
   "cell_type": "code",
   "execution_count": null,
   "metadata": {
    "id": "4NrypDwIrVPs"
   },
   "outputs": [],
   "source": [
    "import os\n",
    "import subprocess\n",
    "import sys\n",
    "import numpy as np\n",
    "import matplotlib.pyplot as plt\n",
    "from collections import defaultdict\n",
    "from pprint import pprint\n",
    "from PIL import Image \n",
    "import pandas as pd\n",
    "import sqlite3\n",
    "\n",
    "\n",
    "# Ask GRASS GIS where its Python packages are.\n",
    "gisbase = subprocess.check_output([\"grass\", \"--config\", \"path\"], text=True).strip()\n",
    "os.environ[\"GISBASE\"] = gisbase\n",
    "print(gisbase)\n",
    "\n",
    "# Ask GRASS GIS where its Python packages are.\n",
    "sys.path.append(\n",
    "    subprocess.check_output([\"grass\", \"--config\", \"python_path\"], text=True).strip()\n",
    ")\n",
    "\n",
    "# Import the GRASS GIS packages we need.\n",
    "import grass.script as gs\n",
    "\n",
    "# Import GRASS Jupyter\n",
    "import grass.jupyter as gj\n",
    "\n",
    "\n",
    "# Start GRASS Session\n",
    "## Set your grass data location\n",
    "gj.init(\"./grassdata/nc_basic_spm_grass7/tutorial\")\n",
    "\n",
    "# Install Add-Ons\n",
    "gs.run_command(\"g.extension\", extension=\"d.region.grid\")"
   ]
  },
  {
   "cell_type": "markdown",
   "metadata": {
    "id": "iCaUp4vUoEoE"
   },
   "source": [
    "## Geospatial data?\n",
    "\n",
    "Geospatial data is data that is associated with a particular location on the surface of the Earth. This data can be represented in many forms, such as points, lines, polygons, and rasters. Geospatial data can be used to answer questions such as \"Where is the nearest hospital?\" or \"What is the average temperature in this region?\"."
   ]
  },
  {
   "cell_type": "markdown",
   "metadata": {
    "id": "abTp3gSyoEoI"
   },
   "source": [
    "### Coordinate Reference Systems (CRS)\n",
    "\n",
    "Coordinate reference systems (CRS) are used to specify the location of a point on the Earth's surface. \n",
    "\n",
    "**Geodetic (Geographic) coordinate systems** are used to specify the location of a point on the Earth's surface using latitude and longitude (units degree:minutes:seconds).\n",
    "\n",
    "Example:\n",
    "- -78.0, 35.0 (Durham, NC)\n",
    "\n",
    "Use Case:\n",
    "- GPS coordinates\n",
    "- Large regions\n",
    "- Data Exchange\n",
    "\n",
    "The most common CRS is the `WGS84`, which is used by GPS systems.\n",
    "\n",
    "**Projected coordinate systems** are used to represent the Earth's surface on a flat map.\n",
    "\n",
    "Projected coordinate systems are a type of CRS that is used to represent the Earth's surface on a flat map. Each version uses a different mathematical model to transform the Earth's three-dimensional surface into a two-dimensional plane. The choice of a projected coordinate system depends on the region of interest and the purpose of the map.\n",
    "\n",
    "Example Developable Surfaces:\n",
    "- Cylindrical\n",
    "- Conic\n",
    "- azimuthal\n",
    "\n",
    "Types of distortion:\n",
    "- Conformal\n",
    "- Equal Area\n",
    "- Equidistant\n",
    "\n",
    "![projection](https://github.com/tomorrownow/intro-to-geoprocessing-workshop/blob/main/images/crs_projected.jpg?raw=true)\n",
    "\n",
    "In North Carolina,`NAD83 North Carolina State Plane` (EPSG: 3358) is a commonly used projected coordinate system. It uses the `Lambert Conformal Conic` projection and has units of meters.\n",
    "You can find other various of CRS at [epsg.io](https://epsg.io) that can be used for different regions of the world.\n",
    "\n",
    "\n",
    "**Web Mapping & Pseudo-Mercator**\n",
    "\n",
    "`Pseudo-Mercator` (EPSG: 3857) is a projected coordinate system that is used by web mapping services such as Google Maps, OpenStreetMap, and Bing Maps. It uses the `Mercator` projection and has units of meters.\n",
    "\n",
    "Even though it is widely used for web mapping, it is not recommend for professional work because it has a high level of distortion at high latitudes and considers the Earth as a perfect sphere instead of an `geoid`.\n",
    "\n",
    "You can see for yourself the distortion of the Mercator projection by using the [The true size](https://thetruesize.com) website.\n",
    "\n",
    "\n",
    "**Learn More**\n",
    "Learn more about [Map projection transitions](https://www.jasondavies.com/maps/transition)\n",
    "Look up CRS at [epsg.io](https://epsg.io)"
   ]
  },
  {
   "cell_type": "markdown",
   "metadata": {},
   "source": [
    "#### Coordinate Reference Systems in GRASS GIS\n",
    "\n",
    "Every `project` (i.e., location) in GRASS GIS has a CRS. You can view the CRS of a `project` using the `g.proj` module.\n",
    "\n",
    "We are currently in the `nc_basic_spm_grass7` project, which uses the `NAD83 / North Carolina (meters)` coordinate reference system (EPSG:3358).\n",
    "\n",
    "We set the `project` using the using the following command:\n",
    "\n",
    "```python\n",
    "\n",
    "gj.init(\"./grassdata\", \"nc_basic_spm_grass7\", \"tutorial\")\n",
    "\n",
    "```\n",
    "\n",
    "You can use either Python or the GRASS GIS command line look at the details of the `project` CRS.\n",
    "\n",
    "**Python:**\n",
    "\n",
    "```python\n",
    "\n",
    "gs.read_command(\"g.proj\", flags=\"p\")\n",
    "\n",
    "```\n",
    "\n",
    "**GRASS GIS Command Line:**\n",
    "\n",
    "```bash\n",
    "g.proj -p\n",
    "```"
   ]
  },
  {
   "cell_type": "code",
   "execution_count": null,
   "metadata": {},
   "outputs": [],
   "source": [
    "# URL of the website to be embedded\n",
    "url = 'https://www.jasondavies.com/maps/transition'\n",
    "\n",
    "# Dimensions of the IFrame\n",
    "width = 1000\n",
    "height = 800\n",
    "\n",
    "# Display the IFrame in the notebook\n",
    "IFrame(url, width=width, height=height)"
   ]
  },
  {
   "cell_type": "markdown",
   "metadata": {},
   "source": [
    "Atalantis Projection (Ocean Currents)"
   ]
  },
  {
   "cell_type": "code",
   "execution_count": null,
   "metadata": {},
   "outputs": [],
   "source": [
    "from IPython.display import IFrame\n",
    "\n",
    "# URL of the website to be embedded\n",
    "url = 'https://earth.nullschool.net/#current/ocean/primary/waves/overlay=currents/atlantis'\n",
    "\n",
    "# Dimensions of the IFrame\n",
    "width = 800\n",
    "height = 600\n",
    "\n",
    "# Display the IFrame in the notebook\n",
    "IFrame(url, width=width, height=height)"
   ]
  },
  {
   "cell_type": "markdown",
   "metadata": {},
   "source": [
    "Lets execute the command to see the details of the `project` CRS using both python and the shell."
   ]
  },
  {
   "cell_type": "code",
   "execution_count": null,
   "metadata": {},
   "outputs": [],
   "source": [
    "# This code is written in python and uses the GRASS Jupyter library\n",
    "\n",
    "gj.init(\"./grassdata\", \"nc_basic_spm_grass7\", \"tutorial\")\n",
    "gs.parse_command(\"g.proj\", flags=\"p\")"
   ]
  },
  {
   "cell_type": "code",
   "execution_count": null,
   "metadata": {},
   "outputs": [],
   "source": [
    "# This code is running a GRASS GIS command in the shell\n",
    "!g.proj -p"
   ]
  },
  {
   "cell_type": "markdown",
   "metadata": {
    "id": "J5dBzVE9oEoG"
   },
   "source": [
    "### Vector Data\n",
    "\n",
    "Vector data is represented as points, lines, and polygons on a map. Points are used to represent specific locations, such as the location of a tree or a building. Lines are used to represent linear features, such as roads or rivers. Polygons are used to represent areas, such as the boundaries of a city or a forest.\n",
    "\n",
    "We will use the [g.list](https://grass.osgeo.org/grass83/manuals/g.list.html) command from GRASS GIS to view avaliable vector data by filtering the results with `type=vector`."
   ]
  },
  {
   "cell_type": "code",
   "execution_count": null,
   "metadata": {
    "colab": {
     "base_uri": "https://localhost:8080/"
    },
    "id": "q9md9aqjyHQb",
    "outputId": "053dfb91-b5f9-4b48-9584-aaa0a0820cc8"
   },
   "outputs": [],
   "source": [
    "!g.list type=vector"
   ]
  },
  {
   "cell_type": "markdown",
   "metadata": {},
   "source": [
    "Vector data have attribute tables that contain information about the features, such as the name of a city or the population of a country.\n",
    "\n",
    "Let's look at what the attribute table column names and data types are for the `firestations` layer.\n",
    "\n",
    "To do this we will use the [v.info -c](https://grass.osgeo.org/grass83/manuals/v.info.html) command from GRASS GIS."
   ]
  },
  {
   "cell_type": "code",
   "execution_count": null,
   "metadata": {},
   "outputs": [],
   "source": [
    "!v.info -c firestations"
   ]
  },
  {
   "cell_type": "markdown",
   "metadata": {},
   "source": [
    "We can now view the attribute data as a `dataframe` using the [pandas](https://pandas.pydata.org) python library. \n",
    "\n",
    "To accomplish this we will copy the `roads` vector layer to our `subproject` (i.e., mapset) to work with."
   ]
  },
  {
   "cell_type": "code",
   "execution_count": null,
   "metadata": {},
   "outputs": [],
   "source": [
    "# Make a copy of the firestations vector to your current mapset called myfirestations\n",
    "gs.run_command(\"g.copy\", vector=\"firestations,myfirestations\")"
   ]
  },
  {
   "cell_type": "markdown",
   "metadata": {},
   "source": [
    "Vector attribute data in GRASS is store in a [sqlite](https://www.sqlite.org) database by default. \\\n",
    "To access the data through the Jupyter notebook we must first get the connection string to the database using GRASS's [db.databases](https://grass.osgeo.org/grass83/manuals/db.databases.html) command."
   ]
  },
  {
   "cell_type": "code",
   "execution_count": null,
   "metadata": {},
   "outputs": [],
   "source": [
    "# Connect to the SQLite database\n",
    "sqlpath = gs.read_command(\"db.databases\", driver=\"sqlite\").replace('\\n', '')"
   ]
  },
  {
   "cell_type": "markdown",
   "metadata": {},
   "source": [
    "We can then connect to the [sqlite](https://www.sqlite.org) database using the path and the [sqlite3](https://docs.python.org/3/library/sqlite3.html) python package."
   ]
  },
  {
   "cell_type": "code",
   "execution_count": null,
   "metadata": {},
   "outputs": [],
   "source": [
    "# Connect to the database\n",
    "con = sqlite3.connect(sqlpath)"
   ]
  },
  {
   "cell_type": "markdown",
   "metadata": {},
   "source": [
    "Now that we are connected to the database we can write a SQL query to `SELECT` all columns (i.e. `*`) `FROM` our `myroads` vector layers attribute table."
   ]
  },
  {
   "cell_type": "code",
   "execution_count": null,
   "metadata": {},
   "outputs": [],
   "source": [
    "# Query the database for the myfirestations table\n",
    "sqlstat=\"SELECT * FROM myfirestations WHERE CITY = 'Raleigh'\""
   ]
  },
  {
   "cell_type": "markdown",
   "metadata": {},
   "source": [
    "Now we can use `pandas` to read our attribute data from the database into a `dataframe`."
   ]
  },
  {
   "cell_type": "code",
   "execution_count": null,
   "metadata": {},
   "outputs": [],
   "source": [
    "# Create a pandas dataframe from the SQL query\n",
    "df_firestations = pd.read_sql_query(sqlstat, con)\n",
    "\n",
    "# Close the connection to the database\n",
    "con.close()"
   ]
  },
  {
   "cell_type": "markdown",
   "metadata": {},
   "source": [
    "Now we can view our attribute data from our `dataframe` stored as the python variable `df_firestations`."
   ]
  },
  {
   "cell_type": "code",
   "execution_count": null,
   "metadata": {},
   "outputs": [],
   "source": [
    "# Display the first few rows of the dataframe\n",
    "df_firestations.head() # Default is 5 rows "
   ]
  },
  {
   "cell_type": "markdown",
   "metadata": {},
   "source": [
    "We can now use any other python plotting tool to charts from our attribute data.\n",
    "\n",
    "References:\n",
    "* [Matplotlib](https://matplotlib.org/stable/users/explain/quick_start.html)\n",
    "* [Pandas](https://pandas.pydata.org/docs/user_guide/visualization.html)\n",
    "* [Seaborn](https://seaborn.pydata.org/examples/index.html)\n",
    "\n"
   ]
  },
  {
   "cell_type": "code",
   "execution_count": null,
   "metadata": {},
   "outputs": [],
   "source": [
    "# Creates a horizontal bar chart of showing the number of pumper tanks at each fire station in Raleigh, NC \n",
    "(df_firestations\n",
    "    .sort_values('PUMPERS', ascending=True)\n",
    "    .plot.barh(\n",
    "        x='LABEL',\n",
    "        y='PUMPERS',\n",
    "        label=\"Pumpers per Station\",\n",
    "        title=\"Pumpers per Station\",\n",
    "        figsize=(10, 6),\n",
    "        color='blue'\n",
    "    ))\n",
    "plt.xlabel(\"Number of Pumpers\")\n",
    "plt.ylabel(\"Fire Stations\")\n",
    "plt.show()\n"
   ]
  },
  {
   "cell_type": "markdown",
   "metadata": {},
   "source": [
    "#### Visualizing Vector Data\n",
    "\n",
    "Using [GRASS Jupyter](https://grass.osgeo.org/grass83/manuals/libpython/grass.jupyter.html) imported as `gj` we can display vector data in our notebook.\n",
    "\n",
    "In this example we will make a make of `zipcodes` in Wake County (i.e., polygon), with `roadsmajor` (i.e., line), and our `firestations` (i.e., point)."
   ]
  },
  {
   "cell_type": "code",
   "execution_count": null,
   "metadata": {},
   "outputs": [],
   "source": [
    "# Create a new map object\n",
    "vect_map = gj.Map()\n",
    "\n",
    "# Add the vector map to the map object\n",
    "vect_map.d_vect(map=\"zipcodes\", fill_color=\"grey\", color=\"black\", width=2)\n",
    "vect_map.d_vect(map=\"roadsmajor\", fill_color=\"grey\", color=\"white\", width=1)\n",
    "\n",
    "# Add the firestations point vector map to the map as a thematic map\n",
    "vect_map.d_vect_thematic(\n",
    "    map=\"firestations\",\n",
    "    column=\"PUMPERS\",\n",
    "    algorithm=\"qua\",\n",
    "    size=10,\n",
    "    nclasses=3,\n",
    "    where=\"CITY = 'Raleigh'\",\n",
    "    icon=\"basic/circle\",\n",
    "    colors=\"0:195:176,251:253:0,242:127:11\",\n",
    ")\n",
    "\n",
    "# Add a legend to the map\n",
    "vect_map.d_legend_vect(\n",
    "    at=(80, 95),\n",
    "    flags=\"b\"\n",
    ")\n",
    "\n",
    "# Add a scale bar to the map with the north arrow\n",
    "vect_map.d_barscale(at=(70,10), flags=\"n\")\n",
    "\n",
    "# Display the map\n",
    "vect_map.show()"
   ]
  },
  {
   "cell_type": "markdown",
   "metadata": {
    "id": "ApLua_S8oEoH"
   },
   "source": [
    "### Rasters Data\n",
    "\n",
    "Raster are a way of represent `continuous` or `discrete` spatial data  in a grid format. Each cell in the grid has a value that represents a particular attribute. For example, a raster could represent the temperature of the Earth's surface, with each cell representing the temperature at a particular location.\n",
    "\n",
    "Let's look at what raster data is avaliable to use in our `project`."
   ]
  },
  {
   "cell_type": "code",
   "execution_count": null,
   "metadata": {
    "colab": {
     "base_uri": "https://localhost:8080/"
    },
    "id": "TmxxuMw0y_uL",
    "outputId": "6fe353a3-b0d0-4723-eb66-16f94f6666d5"
   },
   "outputs": [],
   "source": [
    "# Use the d.rast command to display the elevation raster map from the shell\n",
    "!g.list type=raster"
   ]
  },
  {
   "cell_type": "markdown",
   "metadata": {},
   "source": [
    "Our `project` has 7 available raster datasets for us to examine.\n",
    "\n",
    "#### Setting the Region\n",
    "\n",
    "We are going to set the region to the extent of the `elevatioin` raster data we are going to use. The `elevation` raster data is a Digital Elevation Model (DEM) of the area around Wake County, North Carolina."
   ]
  },
  {
   "cell_type": "code",
   "execution_count": null,
   "metadata": {},
   "outputs": [],
   "source": [
    "region = gs.read_command(\"g.region\", raster=\"elevation\", flags=\"p\")\n",
    "print(region)"
   ]
  },
  {
   "cell_type": "markdown",
   "metadata": {},
   "source": [
    "Let's first map our the `elevation` raster for the `nc_basic_spm_grass7` project."
   ]
  },
  {
   "cell_type": "code",
   "execution_count": null,
   "metadata": {},
   "outputs": [],
   "source": [
    "# Create a map object\n",
    "dem_map = gj.Map()\n",
    "\n",
    "# Add the raster map to the map object\n",
    "dem_map.d_rast(map=\"elevation\")\n",
    "\n",
    "# Add the vector map to the map object\n",
    "dem_map.d_vect(map=\"roadsmajor\", color=\"black\")\n",
    "\n",
    "# Add a legend to the mapProrietry\n",
    "dem_map.d_legend(raster=\"elevation\", at=(5,40,5,9), flags=\"b\", title=\"Elevation (m)\")\n",
    "\n",
    "# Add a scale bar to the map\n",
    "dem_map.d_barscale(at=(50,7), flags=\"n\")\n",
    "\n",
    "# Display the map\n",
    "dem_map.show()"
   ]
  },
  {
   "cell_type": "code",
   "execution_count": null,
   "metadata": {},
   "outputs": [],
   "source": [
    "!r.info elevation"
   ]
  },
  {
   "cell_type": "markdown",
   "metadata": {},
   "source": [
    "Is the `elevation` raster `continuous` or `discrete`? "
   ]
  },
  {
   "cell_type": "markdown",
   "metadata": {},
   "source": [
    "Now lets examine the `landuse` raster by mapping it."
   ]
  },
  {
   "cell_type": "code",
   "execution_count": null,
   "metadata": {},
   "outputs": [],
   "source": [
    "# Create a map object\n",
    "dem_map = gj.Map()\n",
    "\n",
    "# Add the raster map to the map object\n",
    "dem_map.d_rast(map=\"landuse\")\n",
    "\n",
    "# Add the vector map to the map object\n",
    "dem_map.d_vect(map=\"roadsmajor\", color=\"black\")\n",
    "\n",
    "# Add a legend to the mapProrietry\n",
    "dem_map.d_legend(raster=\"landuse\", at=(5,40,5,9), flags=\"b\", title=\"Landuse\")\n",
    "\n",
    "# Add a scale bar to the map\n",
    "dem_map.d_barscale(at=(50,7), flags=\"n\")\n",
    "\n",
    "# Display the map\n",
    "dem_map.show()"
   ]
  },
  {
   "cell_type": "code",
   "execution_count": null,
   "metadata": {},
   "outputs": [],
   "source": [
    "!r.info landuse"
   ]
  },
  {
   "cell_type": "markdown",
   "metadata": {},
   "source": [
    "Is the `landuse` raster `continuous` or `discrete`? "
   ]
  },
  {
   "cell_type": "markdown",
   "metadata": {},
   "source": [
    "#### Spatial Temporal Scale\n",
    "\n",
    "Spatial scale reprents the resolution (i.e., grain) of each pixel and the total extent (i.e., area) of the raster. The temporal scale represents the time period (i.e., extent) and the frequency (i.e., grain) of the data collection.\n",
    "\n",
    "As shown above the `elevation` raster layer has a spatial resoution of 10m. This means that each cell has a dimension of 10m x 10m or $100m^2$. The `elevation` raster layer has a spatial extent of 1,350 rows x 1,500 columns which make up 202,500 cells representing an area of $20,250,000m^2$ or $20.25km^2$.\n",
    "\n",
    "The `landuse` raster has a spatial resolution of 28.5m, which means each cell is $812.25m^2$ and the raster represents a total of 249,324 cells or $20.25km^2$.\n",
    "\n",
    "**Computational Region:**\n",
    "\n",
    "In GRASS GIS the `region` or `computational region` defines the spatial temporal scale. \n",
    "\n",
    "The computational region you select will impact your analytical results and the ammount of time it takes to process data.\n",
    "\n",
    "Raster data is createed at a specific spatail resolution and extent, but you can change the spatial resolution through the process of resampling (upscaling, downscaling).\n",
    "\n",
    "**1D and 2D Interpolation**\n",
    "\n",
    "With raster data we can use 2D interpolation to resample our data.\n",
    "\n",
    "> Note: We use different methods for `continuous` and `discrete` spatial data.\n",
    "\n",
    "![Interpolation](https://github.com/tomorrownow/intro-to-geoprocessing-workshop/blob/main/images/interpolation.png?raw=true)\n",
    "[Source: Cmglee](https://en.wikipedia.org/wiki/Bilinear_interpolation#/media/File:Comparison_of_1D_and_2D_interpolation.svg)\n",
    "\n",
    "Let [resample](https://grass.osgeo.org/grass83/manuals/r.resamp.interp.html) the `elevation` data using `bliniear` interpolation so that each cell spatial resolution is `250m, 500m, and 1000m` to see the effect that spatial resolution has on our evelation data.\n",
    "\n",
    "\n",
    "\n",
    "> Will resampling the data change the `spatial extent` of the data?"
   ]
  },
  {
   "cell_type": "code",
   "execution_count": null,
   "metadata": {},
   "outputs": [],
   "source": [
    "%%bash\n",
    "\n",
    "# Set the computational region to 250m and align the grid to the evelvation raster\n",
    "g.region raster=elevation res=250 -pa\n",
    "\n",
    "# Interpolate the elevation raster from 10m to 250m using bilinear interpolation\n",
    "r.resamp.interp elevation out=elevation250m method=bilinear\n",
    "\n",
    "g.region raster=elevation res=500 -pa\n",
    "r.resamp.interp elevation out=elevation500m method=bilinear\n",
    "\n",
    "g.region raster=elevation res=1000 -pa\n",
    "r.resamp.interp elevation out=elevation1000m method=bilinear\n",
    "\n",
    "# Reset the computational region to the original elevation raster\n",
    "g.region raster=elevation res=10 -p"
   ]
  },
  {
   "cell_type": "markdown",
   "metadata": {},
   "source": [
    "#### Continous"
   ]
  },
  {
   "cell_type": "markdown",
   "metadata": {},
   "source": [
    "We can now show a map and the histogram of our interpolated elevation datasets.\n",
    "\n",
    "![elevation_sc](https://github.com/tomorrownow/intro-to-geoprocessing-workshop/blob/main/images/dem_spatial_scale.png?raw=true)"
   ]
  },
  {
   "cell_type": "markdown",
   "metadata": {},
   "source": [
    "Let's look at what they look like all together.\n",
    "\n",
    "![discete](https://github.com/tomorrownow/intro-to-geoprocessing-workshop/blob/main/images/spatial_scale.png?raw=true)"
   ]
  },
  {
   "cell_type": "markdown",
   "metadata": {},
   "source": [
    "#### Discete\n",
    "\n",
    "Let's now look at what happends when we resample `discete` raster data like `landuse`.\n",
    "\n",
    "![discete](https://github.com/tomorrownow/intro-to-geoprocessing-workshop/blob/main/images/lc_spatial_scale.png?raw=true)"
   ]
  },
  {
   "cell_type": "markdown",
   "metadata": {
    "id": "drspKKBWoEoO"
   },
   "source": [
    "### Date Visualization"
   ]
  },
  {
   "cell_type": "markdown",
   "metadata": {},
   "source": [
    "#### Static Map"
   ]
  },
  {
   "cell_type": "code",
   "execution_count": null,
   "metadata": {
    "colab": {
     "base_uri": "https://localhost:8080/",
     "height": 679
    },
    "id": "-n1mtdHExKxt",
    "outputId": "a7ece48a-f114-4879-eefd-fd1481db61a9"
   },
   "outputs": [],
   "source": [
    "dem_map = gj.Map()\n",
    "\n",
    "dem_map.d_rast(map=\"elevation\")\n",
    "dem_map.d_vect(map=\"roadsmajor\", color=\"black\")\n",
    "dem_map.d_legend(raster=\"elevation\", at=(2,50,2,9))\n",
    "dem_map.d_vect(map=\"roadsmajor\", color=\"black\")\n",
    "dem_map.show()"
   ]
  },
  {
   "cell_type": "markdown",
   "metadata": {},
   "source": [
    "#### Histogram"
   ]
  },
  {
   "cell_type": "code",
   "execution_count": null,
   "metadata": {},
   "outputs": [],
   "source": [
    "dem_hist = gj.Map()\n",
    "dem_hist.d_histogram(map=\"elevation\")\n",
    "dem_hist.show()"
   ]
  },
  {
   "cell_type": "markdown",
   "metadata": {
    "id": "ziQXYb8koEoO"
   },
   "source": [
    "#### Shaded Relief"
   ]
  },
  {
   "cell_type": "markdown",
   "metadata": {},
   "source": [
    "Let's calcuate our aspect map to use for our relief map"
   ]
  },
  {
   "cell_type": "code",
   "execution_count": null,
   "metadata": {
    "id": "OC3-lIIBoEoO"
   },
   "outputs": [],
   "source": [
    "gs.run_command(\n",
    "    \"r.slope.aspect\",\n",
    "    elevation=\"elevation\",\n",
    "    slope=\"slope\",\n",
    "    aspect=\"aspect\",\n",
    "    dx=\"dx\",\n",
    "    dy=\"dy\",\n",
    "    overwrite=True\n",
    ")"
   ]
  },
  {
   "cell_type": "markdown",
   "metadata": {},
   "source": [
    "##### Aspect\n",
    "\n",
    "Aspect shows the direction (e.g., n, e, s, w)"
   ]
  },
  {
   "cell_type": "code",
   "execution_count": null,
   "metadata": {},
   "outputs": [],
   "source": [
    "aspect_map = gj.Map()\n",
    "aspect_map.d_rast(map=\"aspect\")\n",
    "aspect_map.show()"
   ]
  },
  {
   "cell_type": "markdown",
   "metadata": {},
   "source": [
    "#### Shaded Releif Map"
   ]
  },
  {
   "cell_type": "code",
   "execution_count": null,
   "metadata": {},
   "outputs": [],
   "source": [
    "dem_map = gj.Map()\n",
    "dem_map.d_shade(color=\"elevation\", shade=\"aspect\")\n",
    "dem_map.d_legend(raster=\"elevation\", at=(5,50,5,9), flags=\"b\")\n",
    "dem_map.d_barscale(at=(50,7,1,1), flags=\"n\")\n",
    "dem_map.show()"
   ]
  },
  {
   "cell_type": "markdown",
   "metadata": {},
   "source": [
    "#### Visualize Data in 3D"
   ]
  },
  {
   "cell_type": "code",
   "execution_count": null,
   "metadata": {},
   "outputs": [],
   "source": [
    "elevation_3dmap = gj.Map3D()\n",
    "# Full list of options m.nviz.image\n",
    "# https://grass.osgeo.org/grass83/manuals/m.nviz.image.html\n",
    "elevation_3dmap.render(\n",
    "    elevation_map=\"elevation\",\n",
    "    color_map=\"elevation\",\n",
    "    perspective=20,\n",
    "    height=3000,\n",
    "    vline=\"roadsmajor\",\n",
    "    vline_color=\"blue\",\n",
    "    vpoint=\"hospitals\",\n",
    "    vpoint_color=\"red\",\n",
    "    vpoint_marker=\"sphere\",\n",
    "    vpoint_size=200,\n",
    "    fringe=['ne','nw','sw','se'],\n",
    "    arrow_position=[100,50],\n",
    ")\n",
    "elevation_3dmap.overlay.d_legend(raster=\"elevation\", at=(60, 97, 87, 92))\n",
    "elevation_3dmap.show()"
   ]
  },
  {
   "cell_type": "markdown",
   "metadata": {},
   "source": [
    "#### Interactive Maps"
   ]
  },
  {
   "cell_type": "code",
   "execution_count": null,
   "metadata": {},
   "outputs": [],
   "source": [
    "elevation_map = gj.InteractiveMap()\n",
    "elevation_map.add_raster(\"elevation\")\n",
    "elevation_map.show()"
   ]
  },
  {
   "cell_type": "markdown",
   "metadata": {
    "id": "ab4uiEi1oEoP"
   },
   "source": [
    "## NCSSM NDVI & Watershed Analysis"
   ]
  },
  {
   "cell_type": "code",
   "execution_count": null,
   "metadata": {},
   "outputs": [],
   "source": [
    "gj.init(\"./grassdata/nc_basic_spm_grass7/ncssm\")"
   ]
  },
  {
   "cell_type": "code",
   "execution_count": null,
   "metadata": {},
   "outputs": [],
   "source": [
    "gs.run_command(\"g.region\", raster=\"ncssm_be_1m\", res=1, flags=\"ap\")"
   ]
  },
  {
   "cell_type": "code",
   "execution_count": null,
   "metadata": {},
   "outputs": [],
   "source": [
    "map = gj.Map()\n",
    "map.d_rast(map=\"naip_2022_rgb\")\n",
    "map.d_vect(map=\"ncssm\", fill_color=\"none\", color=\"white\", width=2)\n",
    "map.d_vect(map=\"open_channels\", color=\"#7fcdbb\", width=2)\n",
    "map.d_vect(map=\"roads\")\n",
    "map.d_vect(map=\"greenways\", color=\"green\")\n",
    "map.d_vect(map=\"sidewalks\", color=\"grey\")\n",
    "map.d_barscale(at=(10,7), flags=\"n\")\n",
    "map.show()"
   ]
  },
  {
   "cell_type": "markdown",
   "metadata": {},
   "source": [
    "#### Slope & Aspect"
   ]
  },
  {
   "cell_type": "code",
   "execution_count": null,
   "metadata": {},
   "outputs": [],
   "source": [
    "gs.run_command(\n",
    "    \"r.slope.aspect\",\n",
    "    elevation=\"ncssm_be_1m\",\n",
    "    slope=\"slope\",\n",
    "    aspect=\"aspect\",\n",
    "    dx=\"dx\",\n",
    "    dy=\"dy\",\n",
    "    overwrite=True\n",
    ")"
   ]
  },
  {
   "cell_type": "markdown",
   "metadata": {},
   "source": [
    "### NDVI (Normalized Difference Vegetation Index) "
   ]
  },
  {
   "cell_type": "code",
   "execution_count": null,
   "metadata": {},
   "outputs": [],
   "source": [
    "gs.run_command(\"i.vi\", red=\"naip2022.red\", nir=\"naip2022.nir\", output=\"naip2022_ndvi\")"
   ]
  },
  {
   "cell_type": "markdown",
   "metadata": {},
   "source": [
    "#### Map"
   ]
  },
  {
   "cell_type": "code",
   "execution_count": null,
   "metadata": {},
   "outputs": [],
   "source": [
    "ndvi_map = gj.Map()\n",
    "ndvi_map.d_shade(color=\"naip2022_ndvi\", shade=\"aspect\")\n",
    "ndvi_map.d_rast(map=\"naip2022_ndvi\")\n",
    "ndvi_map.d_legend(raster=\"naip2022_ndvi\", at=(5,50,5,9), flags=\"b\")\n",
    "ndvi_map.d_barscale(at=(50,7,1,1), flags=\"n\")\n",
    "ndvi_map.show()"
   ]
  },
  {
   "cell_type": "markdown",
   "metadata": {},
   "source": [
    "#### Shaded Map"
   ]
  },
  {
   "cell_type": "code",
   "execution_count": null,
   "metadata": {},
   "outputs": [],
   "source": [
    "ndvi_map = gj.Map()\n",
    "ndvi_map.d_shade(color=\"naip2022_ndvi\", shade=\"aspect\")\n",
    "ndvi_map.d_legend(raster=\"naip2022_ndvi\", at=(5,50,5,9), flags=\"b\")\n",
    "ndvi_map.d_barscale(at=(50,7,1,1), flags=\"n\")\n",
    "ndvi_map.show()"
   ]
  },
  {
   "cell_type": "markdown",
   "metadata": {},
   "source": [
    "#### 3D Map"
   ]
  },
  {
   "cell_type": "code",
   "execution_count": null,
   "metadata": {},
   "outputs": [],
   "source": [
    "elevation_3dmap = gj.Map3D(use_region=False)\n",
    "# Full list of options m.nviz.image\n",
    "# https://grass.osgeo.org/grass83/manuals/m.nviz.image.html\n",
    "elevation_3dmap.render(\n",
    "    elevation_map=\"ncssm_1m\",\n",
    "    color_map=\"naip2022_ndvi\",\n",
    "    perspective=20,\n",
    "    height=3000,\n",
    "    resolution_fine=1,\n",
    "    zexag=1,\n",
    "    fringe=['ne','nw','sw','se'],\n",
    "    fringe_elevation=10,\n",
    "    arrow_position=[100,50],\n",
    ")\n",
    "elevation_3dmap.show()"
   ]
  },
  {
   "cell_type": "markdown",
   "metadata": {},
   "source": [
    "### Watershed"
   ]
  },
  {
   "cell_type": "code",
   "execution_count": null,
   "metadata": {
    "id": "1tgsZFuuoEoP"
   },
   "outputs": [],
   "source": [
    "gs.run_command(\n",
    "    \"r.watershed\", \n",
    "    elevation=\"ncssm_be_1m\", \n",
    "    threshold=10000,\n",
    "    accumulation=\"accum10k\",\n",
    "    drainage=\"direction10k\",\n",
    "    basin=\"basins10k\", \n",
    "    stream=\"streams10k\", \n",
    "    memory=300\n",
    ")"
   ]
  },
  {
   "cell_type": "markdown",
   "metadata": {},
   "source": [
    "#### Basins"
   ]
  },
  {
   "cell_type": "code",
   "execution_count": null,
   "metadata": {},
   "outputs": [],
   "source": [
    "basins10k_map = gj.Map()\n",
    "basins10k_map.d_rast(map=\"basins10k\")\n",
    "basins10k_map.d_shade(color=\"basins10k\", shade=\"aspect\")\n",
    "basins10k_map.d_barscale(at=(50,7,1,1), flags=\"n\")\n",
    "basins10k_map.show()"
   ]
  },
  {
   "cell_type": "markdown",
   "metadata": {},
   "source": [
    "#### Flow Accumulation"
   ]
  },
  {
   "cell_type": "code",
   "execution_count": null,
   "metadata": {},
   "outputs": [],
   "source": [
    "accum10k_map = gj.Map()\n",
    "accum10k_map.d_rast(map=\"accum10k\")\n",
    "# accum10k_map.d_shade(color=\"accum10k\", shade=\"aspect\", brighten=30)\n",
    "accum10k_map.d_barscale(at=(50,7,1,1), flags=\"n\")\n",
    "accum10k_map.show()"
   ]
  },
  {
   "cell_type": "markdown",
   "metadata": {},
   "source": [
    "#### Streams"
   ]
  },
  {
   "cell_type": "code",
   "execution_count": null,
   "metadata": {},
   "outputs": [],
   "source": [
    "gs.run_command(\"r.thin\", input=\"streams10k\", output=\"streams10k_thin\")\n",
    "gs.run_command(\"r.to.vect\", flags=\"s\", input=\"streams10k_thin\", output=\"streams\", type=\"line\")"
   ]
  },
  {
   "cell_type": "code",
   "execution_count": null,
   "metadata": {},
   "outputs": [],
   "source": [
    "map = gj.Map()\n",
    "map.d_rast(map=\"naip_2022_rgb\")\n",
    "map.d_vect(map=\"ncssm\", fill_color=\"none\", color=\"white\", width=2)\n",
    "map.d_vect(map=\"open_channels\", color=\"#7fcdbb\", width=1)\n",
    "\n",
    "map.d_vect(map=\"roads\")\n",
    "map.d_vect(map=\"greenways\", color=\"green\")\n",
    "map.d_vect(map=\"sidewalks\", color=\"grey\")\n",
    "map.d_vect(map=\"streams\", color=\"blue\", width=2)\n",
    "map.d_barscale(at=(10,7), flags=\"n\")\n",
    "map.show()"
   ]
  },
  {
   "cell_type": "markdown",
   "metadata": {},
   "source": [
    "### Flood Innundation\n",
    "\n",
    "#### Simulate Flood"
   ]
  },
  {
   "cell_type": "code",
   "execution_count": null,
   "metadata": {},
   "outputs": [],
   "source": [
    "gs.run_command(\"g.extension\", extension=\"r.stream.distance\")\n",
    "gs.run_command(\"r.stream.distance\", stream_rast=\"streams10k\", direction=\"direction10k\", elevation=\"ncssm_be_1m\", method=\"downstream\", difference=\"above_stream\")\n",
    "gs.run_command(\"r.lake\", elevation=\"above_stream\", water_level=5, lake=\"flood\", seed=\"streams10k\")"
   ]
  },
  {
   "cell_type": "markdown",
   "metadata": {},
   "source": [
    "#### Map"
   ]
  },
  {
   "cell_type": "code",
   "execution_count": null,
   "metadata": {},
   "outputs": [],
   "source": [
    "map = gj.Map()\n",
    "map.d_rast(map=\"naip_2022_rgb\")\n",
    "map.d_rast(map=\"flood\")\n",
    "map.d_vect(map=\"ncssm\", fill_color=\"none\", color=\"white\", width=2)\n",
    "map.d_vect(map=\"open_channels\", color=\"#7fcdbb\", width=1)\n",
    "\n",
    "map.d_vect(map=\"roads\")\n",
    "map.d_vect(map=\"greenways\", color=\"green\")\n",
    "map.d_vect(map=\"sidewalks\", color=\"grey\")\n",
    "map.d_vect(map=\"streams\", color=\"blue\", width=2)\n",
    "map.d_barscale(at=(10,7), flags=\"n\")\n",
    "map.show()"
   ]
  },
  {
   "cell_type": "markdown",
   "metadata": {},
   "source": [
    "#### Interactive Flood Map"
   ]
  },
  {
   "cell_type": "code",
   "execution_count": null,
   "metadata": {},
   "outputs": [],
   "source": [
    "flood_map = gj.InteractiveMap(height=800,width=800)\n",
    "flood_map.add_raster(\"naip_2022_rgb\")\n",
    "flood_map.add_raster(\"flood\")\n",
    "flood_map.add_vector(\"streams@ncssm\")\n",
    "flood_map.add_layer_control()\n",
    "flood_map.show()"
   ]
  },
  {
   "cell_type": "markdown",
   "metadata": {},
   "source": [
    "#### Export Map as HTML"
   ]
  },
  {
   "cell_type": "code",
   "execution_count": null,
   "metadata": {},
   "outputs": [],
   "source": [
    "flood_map.save(filename=\"./output/index.html\")"
   ]
  },
  {
   "cell_type": "markdown",
   "metadata": {},
   "source": [
    "## Create a new Project (Location and Mapset)\n",
    "\n",
    "Create a new subproject (i.e. Mapset)\n",
    "```bash\n",
    "!grass -e -c ./grassdata/nc_basic_spm_grass7/<New subproject>\n",
    "```\n",
    "\n",
    "Initialize your notebook\n",
    "```python\n",
    "gj.init(\"./grassdata/nc_basic_spm_grass7/<New subproject>\")\n",
    "\n",
    "```\n",
    "\n",
    "### Importing Data\n",
    "\n",
    "#### Where can I get my own geospatial data?\n",
    "\n",
    "**North Carolina Online Data Portals**\n",
    "\n",
    "* [NC OneMap](https://www.nconemap.gov/)\n",
    "* [Durham OpenData Portal](https://live-durhamnc.opendata.arcgis.com/)"
   ]
  },
  {
   "cell_type": "code",
   "execution_count": null,
   "metadata": {},
   "outputs": [],
   "source": [
    "# Point Data\n",
    "hospitals = \"https://webgis2.durhamnc.gov/server/rest/services/PublicServices/Community/MapServer/0/query?outFields=*&where=1%3D1f=geojson\"\n",
    "schools = \"https://webgis2.durhamnc.gov/server/rest/services/PublicServices/Education/MapServer/0/query?outFields=*&where=1%3D1&f=geojson\"\n",
    "\n",
    "# Line Data\n",
    "roads = \"https://webgis2.durhamnc.gov/server/rest/services/PublicServices/Transportation/MapServer/6/query?outFields=*&where=1%3D1f=geojson\"\n",
    "greenways = \"https://webgis2.durhamnc.gov/server/rest/services/ProjectServices/Trans_ExistingFutureBikePedFacilities/MapServer/1/query?outFields=*&where=1%3D1f=geojson\"\n",
    "sidewalks = \"https://webgis2.durhamnc.gov/server/rest/services/PublicServices/Community/MapServer/5/query?outFields=*&where=1%3D1f=geojson\"\n",
    "\n",
    "# Polygon Datahttps://earth.nullschool.net\n",
    "zipcodes = \"https://webgis2.durhamnc.gov/server/rest/services/PublicServices/Administrative/MapServer/0/query?outFields=*&where=1%3D1f=geojson\"\n",
    "county_boundary = \"https://webgis2.durhamnc.gov/server/rest/services/PublicServices/Administrative/MapServer/2/query?outFields=*&where=1%3D1f=geojson\"\n",
    "durham_city_boundary = \"https://webgis2.durhamnc.gov/server/rest/services/PublicServices/Administrative/MapServer/1/query?outFields=*&where=1%3D1f=geojson\"\n",
    "school_districts = \"https://webgis2.durhamnc.gov/server/rest/services/PublicServices/Education/MapServer/1/query?outFields=*&where=1%3D1f=geojson\"\n"
   ]
  },
  {
   "cell_type": "code",
   "execution_count": 98,
   "metadata": {},
   "outputs": [
    {
     "name": "stdout",
     "output_type": "stream",
     "text": [
      "Imports vector data into a GRASS vector map using OGR library and reprojects on the fly.\n",
      "\n",
      "Usage:\n",
      " v.import [-flo] input=string [layer=string[,string,...]] [output=name]\n",
      "   [extent=string] [encoding=string] [snap=value] [epsg=value]\n",
      "   [datum_trans=value] [--overwrite] [--help] [--verbose] [--quiet]\n",
      "   [--ui]\n",
      "\n",
      "Flags:\n",
      "  -f   List supported OGR formats and exit\n",
      "  -l   List available OGR layers in data source and exit\n",
      "  -o   Override projection check (use current location's projection)\n",
      "\n",
      "Parameters:\n",
      "        input   Name of OGR datasource to be imported\n",
      "        layer   OGR layer name. If not given, all available layers are imported\n",
      "       output   Name for output vector map (default: input)\n",
      "       extent   Output vector map extent\n",
      "                options: input,region\n",
      "                default: input\n",
      "     encoding   Encoding value for attribute data\n",
      "         snap   Snapping threshold for boundaries (map units)\n",
      "                default: -1\n",
      "         epsg   EPSG projection code\n",
      "                options: 1-1000000\n",
      "  datum_trans   Index number of datum transform parameters\n",
      "                options: -1-100\n"
     ]
    }
   ],
   "source": [
    "!v.import --help"
   ]
  },
  {
   "cell_type": "code",
   "execution_count": 97,
   "metadata": {},
   "outputs": [
    {
     "name": "stdout",
     "output_type": "stream",
     "text": [
      "Imports raster data into a GRASS raster map using GDAL library and reprojects on the fly.\n",
      "\n",
      "Usage:\n",
      " r.import [-enlo] input=name [band=value[,value,...]]\n",
      "   [memory=memory in MB] [output=name] [resample=string] [extent=string]\n",
      "   [resolution=string] [resolution_value=value] [title=phrase]\n",
      "   [--overwrite] [--help] [--verbose] [--quiet] [--ui]\n",
      "\n",
      "Flags:\n",
      "  -e   Estimate resolution only\n",
      "  -n   Do not perform region cropping optimization\n",
      "  -l   Force Lat/Lon maps to fit into geographic coordinates (90N,S; 180E,W)\n",
      "  -o   Override projection check (use current location's projection)\n",
      "\n",
      "Parameters:\n",
      "             input   Name of GDAL dataset to be imported\n",
      "              band   Input band(s) to select (default is all bands)\n",
      "            memory   Maximum memory to be used (in MB)\n",
      "                     default: 300\n",
      "            output   Name for output raster map\n",
      "          resample   Resampling method to use for reprojection\n",
      "                     options: nearest,bilinear,bicubic,lanczos,bilinear_f,\n",
      "                              bicubic_f,lanczos_f\n",
      "                     default: nearest\n",
      "            extent   Output raster map extent\n",
      "                     options: input,region\n",
      "                     default: input\n",
      "        resolution   Resolution of output raster map (default: estimated)\n",
      "                     options: estimated,value,region\n",
      "                     default: estimated\n",
      "  resolution_value   Resolution of output raster map (use with option resolution=value)\n",
      "             title   Title for resultant raster map\n"
     ]
    }
   ],
   "source": [
    "!r.import --help"
   ]
  },
  {
   "cell_type": "markdown",
   "metadata": {},
   "source": [
    "## Install Add-Ons\n",
    "\n",
    "[Add-On Index](https://grass.osgeo.org/grass82/manuals/addons/index.html)\n"
   ]
  },
  {
   "cell_type": "code",
   "execution_count": 99,
   "metadata": {},
   "outputs": [
    {
     "name": "stdout",
     "output_type": "stream",
     "text": [
      "Maintains GRASS Addons extensions in local GRASS installation.\n",
      "\n",
      "Usage:\n",
      " g.extension [-lcgasdifto] extension=name operation=string [url=url]\n",
      "   [prefix=path] [proxy=proxy[,proxy,...]] [branch=branch] [--help]\n",
      "   [--verbose] [--quiet] [--ui]\n",
      "\n",
      "Flags:\n",
      "  -l   List available extensions in the official GRASS GIS Addons repository\n",
      "  -c   List available extensions in the official GRASS GIS Addons repository including module description\n",
      "  -g   List available extensions in the official GRASS GIS Addons repository (shell script style)\n",
      "  -a   List locally installed extensions\n",
      "  -s   Install system-wide (may need system administrator rights)\n",
      "  -d   Download source code and exit\n",
      "  -i   Do not install new extension, just compile it\n",
      "  -f   Force removal when uninstalling extension (operation=remove)\n",
      "  -t   Operate on toolboxes instead of single modules (experimental)\n",
      "  -o   url refers to a fork of the official extension repository\n",
      "\n",
      "Parameters:\n",
      "  extension   Name of extension to install or remove\n",
      "  operation   Operation to be performed\n",
      "              options: add,remove\n",
      "              default: add\n",
      "        url   URL or directory to get the extension from (supported only on Linux and Mac)\n",
      "     prefix   Prefix where to install extension (ignored when flag -s is given)\n",
      "              default: $GRASS_ADDON_BASE\n",
      "      proxy   Set the proxy with: \"http=<value>,ftp=<value>\"\n",
      "     branch   Specific branch to fetch addon from (only used when fetching from git)\n"
     ]
    }
   ],
   "source": [
    "!g.extension --help"
   ]
  },
  {
   "cell_type": "code",
   "execution_count": null,
   "metadata": {},
   "outputs": [],
   "source": []
  }
 ],
 "metadata": {
  "colab": {
   "include_colab_link": true,
   "provenance": []
  },
  "kernelspec": {
   "display_name": "Python 3 (ipykernel)",
   "language": "python",
   "name": "python3"
  },
  "language_info": {
   "codemirror_mode": {
    "name": "ipython",
    "version": 3
   },
   "file_extension": ".py",
   "mimetype": "text/x-python",
   "name": "python",
   "nbconvert_exporter": "python",
   "pygments_lexer": "ipython3",
   "version": "3.10.12"
  }
 },
 "nbformat": 4,
 "nbformat_minor": 4
}
