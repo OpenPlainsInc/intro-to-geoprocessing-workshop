{
 "cells": [
  {
   "cell_type": "markdown",
   "metadata": {
    "colab_type": "text",
    "id": "view-in-github"
   },
   "source": [
    "<a href=\"https://colab.research.google.com/github/tomorrownow/intro-to-geoprocessing-workshop/blob/main/geoprocessing.ipynb\" target=\"_parent\"><img src=\"https://colab.research.google.com/assets/colab-badge.svg\" alt=\"Open In Colab\"/></a>"
   ]
  },
  {
   "cell_type": "markdown",
   "metadata": {},
   "source": [
    "# Intro to Geoprocessing with the GRASS GIS Geoprocessing Engine\n",
    "\n",
    "This notebook is an introduction to geoprocessing with [GRASS GIS](https://grass.osgeo.org). We aim to introduce you to the basics concepts of Geographic Information Systems (GIS) and how to use GRASS GIS to perform geoprocessing tasks.\n",
    "\n",
    "\n",
    "<!-- ![Fun image](./images/flooding_background.png) -->\n",
    "\n",
    "## What is GIS?  \n",
    "GIS is a system designed to capture, store, manipulate, analyze, manage, and present spatial or geographic data. GIS applications are tools that allow users to create interactive queries (user-created searches), analyze spatial information, edit data in maps, and present the results of all these operations.\n",
    "\n",
    "There are many GIS software solutions that each perform well at differnt tasks.\n",
    "\n",
    "The two most widely GIS desktop solutions are.\n",
    "\n",
    "- ArcGIS Pro (Proprietary)\n",
    "- QGIS (Open Source)\n",
    "\n",
    "GRASS GIS can be used as a desktop GIS solution, but it really thrives as a **geospatial processing engine**.\n",
    "\n",
    "## What is a Geospatial Processing Engine?\n",
    "\n",
    "A geospatial processing engine is a tool that allows to efficiently manipulate geospatial data through the development of scriptable geoprocesing workflows. Geoprocessing engines can be used on a local machine, distributed on the cloud, or on HPC (high performance computing) clusters (i.e., super computers).\n",
    "\n",
    "With GRASS you can effiently process geospatial data with over 800 tools or develop your own models or tools using its C and Python APIs.\n",
    "\n",
    "The tools are prefixed to reflect the type of data they are designe to work with.\n",
    "\n",
    "* d.* - display commands for graphical screen output: d.rast, d.vect, d.sites, d.mon\n",
    "* g.* - general file management commands: g.list, g.copy\n",
    "* i.* - image processing commands\n",
    "* r.* - raster processing commands: r.slope.aspect, r.mapcalc\n",
    "* v.* - vector processing commands: v.digit, v.to.rast\n",
    "* db.* - dabase commands: db.selet\n",
    "* r3.* - 3d raster\n",
    "* t.* - temporal\n",
    "* m.* - Miscellaneous"
   ]
  },
  {
   "cell_type": "code",
   "execution_count": null,
   "metadata": {},
   "outputs": [],
   "source": [
    "from IPython.display import IFrame\n",
    "\n",
    "# URL of the website to be embedded\n",
    "url = 'https://earth.nullschool.net/'\n",
    "\n",
    "# Dimensions of the IFrame\n",
    "width = 800\n",
    "height = 600\n",
    "\n",
    "# Display the IFrame in the notebook\n",
    "IFrame(url, width=width, height=height)"
   ]
  },
  {
   "cell_type": "markdown",
   "metadata": {
    "id": "lKKJNOcBoEoN"
   },
   "source": [
    "## Let's Jump in\n",
    "\n",
    "![deepend.webp](./images/deepend.webp)\n",
    "\n",
    "### Install GRASS GIS"
   ]
  },
  {
   "cell_type": "code",
   "execution_count": null,
   "metadata": {
    "id": "xpO6AzjdoKwF"
   },
   "outputs": [],
   "source": [
    "%%bash\n",
    "\n",
    "apt-get install grass grass-dev grass-doc\n",
    "# leave the directory with source code\n",
    "cd ~\n",
    "\n",
    "# download sample data\n",
    "mkdir -p grassdata\n",
    "mkdir -p output\n",
    "curl -SL https://grass.osgeo.org/sampledata/north_carolina/nc_basic_spm_grass7.zip > nc_basic_spm_grass7.zip\n",
    "unzip -qq nc_basic_spm_grass7.zip\n",
    "mv nc_basic_spm_grass7 grassdata\n",
    "rm nc_basic_spm_grass7.zip\n",
    "\n",
    "curl -SL https://storage.googleapis.com/public_grassdata/ncssm_workshop_data/ncssm.zip > ncssm.zip\n",
    "unzip -qq ncssm.zip\n",
    "mv ncssm grassdata/nc_basic_spm_grass7\n",
    "rm ncssm.zip\n"
   ]
  },
  {
   "cell_type": "code",
   "execution_count": null,
   "metadata": {
    "id": "sSktnmtmpwA6"
   },
   "outputs": [],
   "source": [
    "import os\n",
    "os.chdir(os.path.expanduser(\"~\"))"
   ]
  },
  {
   "cell_type": "markdown",
   "metadata": {},
   "source": [
    "### Create a GRASS Project\n",
    "\n",
    "A project in GRASS is called a `Location`. Each location has subprojects called `Mapsets`. A mapset is a directory containing maps, which are the basic data layer in GRASS."
   ]
  },
  {
   "cell_type": "code",
   "execution_count": null,
   "metadata": {},
   "outputs": [],
   "source": [
    "# ! means that we are running a command in theS2B_17SQV_20240227_0_L2A.B03 shell\n",
    "!grass -e -c ./grassdata/nc_basic_spm_grass7/tutorial"
   ]
  },
  {
   "cell_type": "code",
   "execution_count": null,
   "metadata": {
    "id": "4NrypDwIrVPs"
   },
   "outputs": [],
   "source": [
    "import os\n",
    "import subprocess\n",
    "import sys\n",
    "import numpy as np\n",
    "import matplotlib.pyplot as plt\n",
    "from collections import defaultdict\n",
    "from pprint import pprint\n",
    "from PIL import Image \n",
    "import pandas as pd\n",
    "import sqlite3\n",
    "\n",
    "\n",
    "# Ask GRASS GIS where its Python packages are.\n",
    "gisbase = subprocess.check_output([\"grass\", \"--config\", \"path\"], text=True).strip()\n",
    "os.environ[\"GISBASE\"] = gisbase\n",
    "print(gisbase)\n",
    "\n",
    "# Ask GRASS GIS where its Python packages are.\n",
    "sys.path.append(\n",
    "    subprocess.check_output([\"grass\", \"--config\", \"python_path\"], text=True).strip()\n",
    ")\n",
    "\n",
    "# Import the GRASS GIS packages we need.\n",
    "import grass.script as gs\n",
    "\n",
    "# Import GRASS Jupyter\n",
    "import grass.jupyter as gj\n",
    "\n",
    "\n",
    "# Start GRASS Session\n",
    "## Set your grass data location\n",
    "gj.init(\"~/grassdata/nc_basic_spm_grass7/tutorial\")\n",
    "\n",
    "# Install Add-Ons\n",
    "gs.run_command(\"g.extension\", extension=\"d.region.grid\")"
   ]
  },
  {
   "cell_type": "markdown",
   "metadata": {},
   "source": [
    "![grassdata](./images/grass_database.png)\n",
    "[Learn More](https://grass.osgeo.org/grass83/manuals/grass_database.html)"
   ]
  },
  {
   "cell_type": "markdown",
   "metadata": {
    "id": "iCaUp4vUoEoE"
   },
   "source": [
    "## Geospatial data?\n",
    "\n",
    "Geospatial data is data that is associated with a particular location on the surface of the Earth. This data can be represented in many forms, such as points, lines, polygons, and rasters. Geospatial data can be used to answer questions such as \"Where is the nearest hospital?\" or \"What is the average temperature in this region?\"."
   ]
  },
  {
   "cell_type": "markdown",
   "metadata": {
    "id": "abTp3gSyoEoI"
   },
   "source": [
    "### Coordinate Reference Systems (CRS)\n",
    "\n",
    "Coordinate reference systems (CRS) are used to specify the location of a point on the Earth's surface. \n",
    "\n",
    "**Geodetic (Geographic) coordinate systems** are used to specify the location of a point on the Earth's surface using latitude and longitude (units degree:minutes:seconds).\n",
    "\n",
    "Example:\n",
    "- -78.0, 35.0 (Durham, NC)\n",
    "\n",
    "Use Case:\n",
    "- GPS coordinates\n",
    "- Large regions\n",
    "- Data Exchange\n",
    "\n",
    "The most common CRS is the `WGS84`, which is used by GPS systems.\n",
    "\n",
    "**Projected coordinate systems** are used to represent the Earth's surface on a flat map.\n",
    "\n",
    "Projected coordinate systems are a type of CRS that is used to represent the Earth's surface on a flat map. Each version uses a different mathematical model to transform the Earth's three-dimensional surface into a two-dimensional plane. The choice of a projected coordinate system depends on the region of interest and the purpose of the map.\n",
    "\n",
    "Example Developable Surfaces:\n",
    "- Cylindrical\n",
    "- Conic\n",
    "- azimuthal\n",
    "\n",
    "Types of distortion:\n",
    "- Conformal\n",
    "- Equal Area\n",
    "- Equidistant\n",
    "\n",
    "![projection](./images/crs_projected.jpg)\n",
    "\n",
    "In North Carolina,`NAD83 North Carolina State Plane` (EPSG: 3358) is a commonly used projected coordinate system. It uses the `Lambert Conformal Conic` projection and has units of meters.\n",
    "You can find other various of CRS at [epsg.io](https://epsg.io) that can be used for different regions of the world.\n",
    "\n",
    "\n",
    "**Web Mapping & Pseudo-Mercator**\n",
    "\n",
    "`Pseudo-Mercator` (EPSG: 3857) is a projected coordinate system that is used by web mapping services such as Google Maps, OpenStreetMap, and Bing Maps. It uses the `Mercator` projection and has units of meters.\n",
    "\n",
    "Even though it is widely used for web mapping, it is not recommend for professional work because it has a high level of distortion at high latitudes and considers the Earth as a perfect sphere instead of an `geoid`.\n",
    "\n",
    "You can see for yourself the distortion of the Mercator projection by using the [The true size](https://thetruesize.com) website.\n",
    "\n",
    "\n",
    "**Learn More**\n",
    "Learn more about [Map projection transitions](https://www.jasondavies.com/maps/transition)\n",
    "Look up CRS at [epsg.io](https://epsg.io)"
   ]
  },
  {
   "cell_type": "markdown",
   "metadata": {},
   "source": [
    "#### Coordinate Reference Systems in GRASS GIS\n",
    "\n",
    "Every `project` (i.e., location) in GRASS GIS has a CRS. You can view the CRS of a `project` using the `g.proj` module.\n",
    "\n",
    "We are currently in the `nc_basic_spm_grass7` project, which uses the `NAD83 / North Carolina (meters)` coordinate reference system (EPSG:3358).\n",
    "\n",
    "We set the `project` using the using the following command:\n",
    "\n",
    "```python\n",
    "\n",
    "gj.init(\"./grassdata\", \"nc_basic_spm_grass7\", \"tutorial\")\n",
    "\n",
    "```\n",
    "\n",
    "You can use either Python or the GRASS GIS command line look at the details of the `project` CRS.\n",
    "\n",
    "**Python:**\n",
    "\n",
    "```python\n",
    "\n",
    "gs.read_command(\"g.proj\", flags=\"p\")\n",
    "\n",
    "```\n",
    "\n",
    "**GRASS GIS Command Line:**\n",
    "\n",
    "```bash\n",
    "g.proj -p\n",
    "```"
   ]
  },
  {
   "cell_type": "code",
   "execution_count": null,
   "metadata": {},
   "outputs": [],
   "source": [
    "# URL of the website to be embedded\n",
    "url = 'https://www.jasondavies.com/maps/transition'\n",
    "\n",
    "# Dimensions of the IFrame\n",
    "width = 1000\n",
    "height = 800\n",
    "\n",
    "# Display the IFrame in the notebook\n",
    "IFrame(url, width=width, height=height)"
   ]
  },
  {
   "cell_type": "markdown",
   "metadata": {},
   "source": [
    "Atalantis Projection (Ocean Currents)"
   ]
  },
  {
   "cell_type": "code",
   "execution_count": null,
   "metadata": {},
   "outputs": [],
   "source": [
    "from IPython.display import IFrame\n",
    "\n",
    "# URL of the website to be embedded\n",
    "url = 'https://earth.nullschool.net/#current/ocean/primary/waves/overlay=currents/atlantis'\n",
    "\n",
    "# Dimensions of the IFrame\n",
    "width = 800\n",
    "height = 600\n",
    "\n",
    "# Display the IFrame in the notebook\n",
    "IFrame(url, width=width, height=height)"
   ]
  },
  {
   "cell_type": "markdown",
   "metadata": {},
   "source": [
    "Lets execute the command to see the details of the `project` CRS using both python and the shell."
   ]
  },
  {
   "cell_type": "code",
   "execution_count": null,
   "metadata": {},
   "outputs": [],
   "source": [
    "# This code is written in python and uses the GRASS Jupyter library\n",
    "\n",
    "gj.init(\"./grassdata\", \"nc_basic_spm_grass7\", \"tutorial\")\n",
    "gs.parse_command(\"g.proj\", flags=\"p\")"
   ]
  },
  {
   "cell_type": "code",
   "execution_count": null,
   "metadata": {},
   "outputs": [],
   "source": [
    "# This code is running a GRASS GIS command in the shell\n",
    "!g.proj -p"
   ]
  },
  {
   "cell_type": "markdown",
   "metadata": {
    "id": "J5dBzVE9oEoG"
   },
   "source": [
    "### Vector Data\n",
    "\n",
    "Vector data is represented as points, lines, and polygons on a map. Points are used to represent specific locations, such as the location of a tree or a building. Lines are used to represent linear features, such as roads or rivers. Polygons are used to represent areas, such as the boundaries of a city or a forest.\n",
    "\n",
    "We will use the [g.list](https://grass.osgeo.org/grass83/manuals/g.list.html) command from GRASS GIS to view avaliable vector data by filtering the results with `type=vector`."
   ]
  },
  {
   "cell_type": "code",
   "execution_count": null,
   "metadata": {
    "colab": {
     "base_uri": "https://localhost:8080/"
    },
    "id": "q9md9aqjyHQb",
    "outputId": "053dfb91-b5f9-4b48-9584-aaa0a0820cc8"
   },
   "outputs": [],
   "source": [
    "!g.list type=vector"
   ]
  },
  {
   "cell_type": "markdown",
   "metadata": {},
   "source": [
    "Vector data have attribute tables that contain information about the features, such as the name of a city or the population of a country.\n",
    "\n",
    "Let's look at what the attribute table column names and data types are for the `firestations` layer.\n",
    "\n",
    "To do this we will use the [v.info -c](https://grass.osgeo.org/grass83/manuals/v.info.html) command from GRASS GIS."
   ]
  },
  {
   "cell_type": "code",
   "execution_count": null,
   "metadata": {},
   "outputs": [],
   "source": [
    "!v.info -c firestations"
   ]
  },
  {
   "cell_type": "markdown",
   "metadata": {},
   "source": [
    "We can now view the attribute data as a `dataframe` using the [pandas](https://pandas.pydata.org) python library. \n",
    "\n",
    "To accomplish this we will copy the `firestations` vector layer to our `subproject` (i.e., mapset) to work with."
   ]
  },
  {
   "cell_type": "code",
   "execution_count": null,
   "metadata": {},
   "outputs": [],
   "source": [
    "# Make a copy of the firestations vector to your current mapset called myfirestations\n",
    "gs.run_command(\"g.copy\", vector=\"firestations,myfirestations\")"
   ]
  },
  {
   "cell_type": "markdown",
   "metadata": {},
   "source": [
    "Vector attribute data in GRASS is store in a [sqlite](https://www.sqlite.org) database by default. \\\n",
    "To access the data through the Jupyter notebook we must first get the connection string to the database using GRASS's [db.databases](https://grass.osgeo.org/grass83/manuals/db.databases.html) command."
   ]
  },
  {
   "cell_type": "code",
   "execution_count": null,
   "metadata": {},
   "outputs": [],
   "source": [
    "# Connect to the SQLite database\n",
    "sqlpath = gs.read_command(\"db.databases\", driver=\"sqlite\").replace('\\n', '')"
   ]
  },
  {
   "cell_type": "markdown",
   "metadata": {},
   "source": [
    "We can then connect to the [sqlite](https://www.sqlite.org) database using the path and the [sqlite3](https://docs.python.org/3/library/sqlite3.html) python package."
   ]
  },
  {
   "cell_type": "code",
   "execution_count": null,
   "metadata": {},
   "outputs": [],
   "source": [
    "# Connect to the database\n",
    "con = sqlite3.connect(sqlpath)"
   ]
  },
  {
   "cell_type": "markdown",
   "metadata": {},
   "source": [
    "Now that we are connected to the database we can write a SQL query to `SELECT` all columns (i.e. `*`) `FROM` our `myfirestations` vector layers attribute table `WHRERE` the `rows` with the column `CITY` has the value of `Raleigh`"
   ]
  },
  {
   "cell_type": "code",
   "execution_count": null,
   "metadata": {},
   "outputs": [],
   "source": [
    "# Query the database for the myfirestations table\n",
    "sqlstat=\"SELECT * FROM myfirestations WHERE CITY = 'Raleigh'\""
   ]
  },
  {
   "cell_type": "markdown",
   "metadata": {},
   "source": [
    "Now we can use `pandas` to read our attribute data from the database into a `dataframe`."
   ]
  },
  {
   "cell_type": "code",
   "execution_count": null,
   "metadata": {},
   "outputs": [],
   "source": [
    "# Create a pandas dataframe from the SQL query\n",
    "df_firestations = pd.read_sql_query(sqlstat, con)\n",
    "\n",
    "# Close the connection to the database\n",
    "con.close()"
   ]
  },
  {
   "cell_type": "markdown",
   "metadata": {},
   "source": [
    "Now we can view our attribute data from our `dataframe` stored as the python variable `df_firestations`."
   ]
  },
  {
   "cell_type": "code",
   "execution_count": null,
   "metadata": {},
   "outputs": [],
   "source": [
    "# Display the first few rows of the dataframe\n",
    "df_firestations.head() # Default is 5 rows "
   ]
  },
  {
   "cell_type": "markdown",
   "metadata": {},
   "source": [
    "We can now use any other python plotting tool to charts from our attribute data.\n",
    "\n",
    "References:\n",
    "* [Matplotlib](https://matplotlib.org/stable/users/explain/quick_start.html)\n",
    "* [Pandas](https://pandas.pydata.org/docs/user_guide/visualization.html)\n",
    "* [Seaborn](https://seaborn.pydata.org/examples/index.html)\n",
    "\n"
   ]
  },
  {
   "cell_type": "code",
   "execution_count": null,
   "metadata": {},
   "outputs": [],
   "source": [
    "# Creates a horizontal bar chart of showing the number of pumper tanks at each fire station in Raleigh, NC \n",
    "(df_firestations\n",
    "    .sort_values('PUMPERS', ascending=True)\n",
    "    .plot.barh(\n",
    "        x='LABEL',\n",
    "        y='PUMPERS',\n",
    "        label=\"Pumpers per Station\",\n",
    "        title=\"Pumpers per Station\",\n",
    "        figsize=(10, 6),\n",
    "        color='blue'\n",
    "    ))\n",
    "plt.xlabel(\"Number of Pumpers\")\n",
    "plt.ylabel(\"Fire Stations\")\n",
    "plt.show()\n"
   ]
  },
  {
   "cell_type": "markdown",
   "metadata": {},
   "source": [
    "#### Visualizing Vector Data\n",
    "\n",
    "Using [GRASS Jupyter](https://grass.osgeo.org/grass83/manuals/libpython/grass.jupyter.html) imported as `gj` we can display vector data in our notebook.\n",
    "\n",
    "In this example we will make a make of `zipcodes` in Wake County (i.e., polygon), with `roadsmajor` (i.e., line), and our `firestations` (i.e., point)."
   ]
  },
  {
   "cell_type": "code",
   "execution_count": null,
   "metadata": {},
   "outputs": [],
   "source": [
    "# Create a new map object\n",
    "vect_map = gj.Map()\n",
    "\n",
    "# Add the vector map to the map object\n",
    "vect_map.d_vect(map=\"zipcodes\", fill_color=\"grey\", color=\"black\", width=2)\n",
    "vect_map.d_vect(map=\"roadsmajor\", fill_color=\"grey\", color=\"white\", width=1)\n",
    "\n",
    "# Add the firestations point vector map to the map as a thematic map\n",
    "vect_map.d_vect_thematic(\n",
    "    map=\"firestations\",\n",
    "    column=\"PUMPERS\",\n",
    "    algorithm=\"qua\",\n",
    "    size=10,\n",
    "    nclasses=3,\n",
    "    where=\"CITY = 'Raleigh'\",\n",
    "    icon=\"basic/circle\",\n",
    "    colors=\"0:195:176,251:253:0,242:127:11\",\n",
    ")\n",
    "\n",
    "# Add a legend to the map\n",
    "vect_map.d_legend_vect(\n",
    "    at=(80, 95),\n",
    "    flags=\"b\"\n",
    ")\n",
    "\n",
    "# Add a scale bar to the map with the north arrow\n",
    "vect_map.d_barscale(at=(70,10), flags=\"n\")\n",
    "\n",
    "# Display the map\n",
    "vect_map.show()"
   ]
  },
  {
   "cell_type": "markdown",
   "metadata": {
    "id": "ApLua_S8oEoH"
   },
   "source": [
    "### Rasters Data\n",
    "\n",
    "Raster are a way of represent `continuous` or `discrete` spatial data  in a grid format. Each cell in the grid has a value that represents a particular attribute. For example, a raster could represent the temperature of the Earth's surface, with each cell representing the temperature at a particular location.\n",
    "\n",
    "Let's look at what raster data is avaliable to use in our `project`."
   ]
  },
  {
   "cell_type": "code",
   "execution_count": null,
   "metadata": {
    "colab": {
     "base_uri": "https://localhost:8080/"
    },
    "id": "TmxxuMw0y_uL",
    "outputId": "6fe353a3-b0d0-4723-eb66-16f94f6666d5"
   },
   "outputs": [],
   "source": [
    "# Use the d.rast command to display the elevation raster map from the shell\n",
    "!g.list type=raster"
   ]
  },
  {
   "cell_type": "markdown",
   "metadata": {},
   "source": [
    "Our `project` has 7 available raster datasets for us to examine.\n",
    "\n",
    "#### Setting the Region\n",
    "\n",
    "We are going to set the region to the extent of the `elevatioin` raster data we are going to use. The `elevation` raster data is a Digital Elevation Model (DEM) of the area around Wake County, North Carolina."
   ]
  },
  {
   "cell_type": "code",
   "execution_count": null,
   "metadata": {},
   "outputs": [],
   "source": [
    "region = gs.read_command(\"g.region\", raster=\"elevation\", flags=\"p\")\n",
    "print(region)"
   ]
  },
  {
   "cell_type": "markdown",
   "metadata": {},
   "source": [
    "Let's first map our the `elevation` raster for the `nc_basic_spm_grass7` project."
   ]
  },
  {
   "cell_type": "code",
   "execution_count": null,
   "metadata": {},
   "outputs": [],
   "source": [
    "# Create a map object\n",
    "dem_map = gj.Map()\n",
    "\n",
    "# Add the raster map to the map object\n",
    "dem_map.d_rast(map=\"elevation\")\n",
    "\n",
    "# Add the vector map to the map object\n",
    "dem_map.d_vect(map=\"roadsmajor\", color=\"black\")\n",
    "\n",
    "# Add a legend to the mapProrietry\n",
    "dem_map.d_legend(raster=\"elevation\", at=(5,40,5,9), flags=\"b\", title=\"Elevation (m)\")\n",
    "\n",
    "# Add a scale bar to the map\n",
    "dem_map.d_barscale(at=(50,7), flags=\"n\")\n",
    "\n",
    "# Display the map\n",
    "dem_map.show()"
   ]
  },
  {
   "cell_type": "code",
   "execution_count": null,
   "metadata": {},
   "outputs": [],
   "source": [
    "!r.info elevation"
   ]
  },
  {
   "cell_type": "markdown",
   "metadata": {},
   "source": [
    "Is the `elevation` raster `continuous` or `discrete`? "
   ]
  },
  {
   "cell_type": "markdown",
   "metadata": {},
   "source": [
    "Now lets examine the `landuse` raster by mapping it."
   ]
  },
  {
   "cell_type": "code",
   "execution_count": null,
   "metadata": {},
   "outputs": [],
   "source": [
    "# Create a map object\n",
    "dem_map = gj.Map()\n",
    "\n",
    "# Add the raster map to the map object\n",
    "dem_map.d_rast(map=\"landuse\")\n",
    "\n",
    "# Add the vector map to the map object\n",
    "dem_map.d_vect(map=\"roadsmajor\", color=\"black\")\n",
    "\n",
    "# Add a legend to the mapProrietry\n",
    "dem_map.d_legend(raster=\"landuse\", at=(5,40,5,9), flags=\"b\", title=\"Landuse\")\n",
    "\n",
    "# Add a scale bar to the map\n",
    "dem_map.d_barscale(at=(50,7), flags=\"n\")\n",
    "\n",
    "# Display the map\n",
    "dem_map.show()"
   ]
  },
  {
   "cell_type": "code",
   "execution_count": null,
   "metadata": {},
   "outputs": [],
   "source": [
    "!r.info landuse"
   ]
  },
  {
   "cell_type": "markdown",
   "metadata": {},
   "source": [
    "Is the `landuse` raster `continuous` or `discrete`? "
   ]
  },
  {
   "cell_type": "markdown",
   "metadata": {},
   "source": [
    "#### Spatial Temporal Scale\n",
    "\n",
    "Spatial scale reprents the resolution (i.e., grain) of each pixel and the total extent (i.e., area) of the raster. The temporal scale represents the time period (i.e., extent) and the frequency (i.e., grain) of the data collection.\n",
    "\n",
    "As shown above the `elevation` raster layer has a spatial resoution of 10m. This means that each cell has a dimension of 10m x 10m or $100m^2$. The `elevation` raster layer has a spatial extent of 1,350 rows x 1,500 columns which make up 202,500 cells representing an area of $20,250,000m^2$ or $20.25km^2$.\n",
    "\n",
    "The `landuse` raster has a spatial resolution of 28.5m, which means each cell is $812.25m^2$ and the raster represents a total of 249,324 cells or $20.25km^2$.\n",
    "\n",
    "**Computational Region:**\n",
    "\n",
    "In GRASS GIS the `region` or `computational region` defines the spatial temporal scale. \n",
    "\n",
    "The computational region you select will impact your analytical results and the ammount of time it takes to process data.\n",
    "\n",
    "Raster data is createed at a specific spatail resolution and extent, but you can change the spatial resolution through the process of resampling (upscaling, downscaling).\n",
    "\n",
    "**1D and 2D Interpolation**\n",
    "\n",
    "With raster data we can use 2D interpolation to resample our data.\n",
    "\n",
    "> Note: We use different methods for `continuous` and `discrete` spatial data.\n",
    "\n",
    "![Interpolation](./images/interpolation.png)\n",
    "[Source: Cmglee](https://en.wikipedia.org/wiki/Bilinear_interpolation#/media/File:Comparison_of_1D_and_2D_interpolation.svg)\n",
    "\n",
    "Let [resample](https://grass.osgeo.org/grass83/manuals/r.resamp.interp.html) the `elevation` data using `bliniear` interpolation so that each cell spatial resolution is `250m, 500m, and 1000m` to see the effect that spatial resolution has on our evelation data.\n",
    "\n",
    "\n",
    "\n",
    "> Will resampling the data change the `spatial extent` of the data?"
   ]
  },
  {
   "cell_type": "code",
   "execution_count": null,
   "metadata": {},
   "outputs": [],
   "source": [
    "%%bash\n",
    "\n",
    "# Set the computational region to 250m and align the grid to the evelvation raster\n",
    "g.region raster=elevation res=250 -pa\n",
    "\n",
    "# Interpolate the elevation raster from 10m to 250m using bilinear interpolation\n",
    "r.resamp.interp elevation out=elevation250m method=bilinear\n",
    "\n",
    "g.region raster=elevation res=500 -pa\n",
    "r.resamp.interp elevation out=elevation500m method=bilinear\n",
    "\n",
    "g.region raster=elevation res=1000 -pa\n",
    "r.resamp.interp elevation out=elevation1000m method=bilinear\n",
    "\n",
    "# Reset the computational region to the original elevation raster\n",
    "g.region raster=elevation res=10 -p"
   ]
  },
  {
   "cell_type": "markdown",
   "metadata": {},
   "source": [
    "We can now show a map and the histogram of our interpolated elevation datasets."
   ]
  },
  {
   "cell_type": "code",
   "execution_count": null,
   "metadata": {},
   "outputs": [],
   "source": [
    "fig = plt.figure(figsize=(25, 30))\n",
    "\n",
    "\n",
    "ax = fig.add_subplot(2, 3, 1)\n",
    "fig.subplots_adjust(hspace=0, wspace=0.1)\n",
    "ax.set_axis_off()\n",
    "dem250_map = gj.Map(filename=\"output/dem250_map.png\", use_region=True)\n",
    "dem250_map.d_rast(map=\"elevation250m\")\n",
    "dem250_map.d_vect(map=\"roadsmajor\", color=\"black\")\n",
    "dem250_map.d_region_grid(raster=\"elevation250m\")\n",
    "img1 = Image.open(\"output/dem250_map.png\") \n",
    "plt.imshow(img1)\n",
    "ax.set_title(\"250m\", {\"fontsize\": 24, \"fontweight\": \"bold\"})\n",
    "\n",
    "ax = fig.add_subplot(2, 3, 2)\n",
    "ax.set_axis_off()\n",
    "dem500_map = gj.Map(filename=\"output/dem500_map.png\", use_region=True)\n",
    "dem500_map.d_rast(map=\"elevation500m\")\n",
    "dem500_map.d_vect(map=\"roadsmajor\", color=\"black\")\n",
    "dem500_map.d_region_grid(raster=\"elevation500m\", color=\"#9B520D\")\n",
    "dem500_map.show()\n",
    "img2 = Image.open(\"output/dem500_map.png\")\n",
    "plt.imshow(img2)\n",
    "ax.set_title(\"500m\", {\"fontsize\": 24, \"fontweight\": \"bold\"})\n",
    "\n",
    "\n",
    "ax = fig.add_subplot(2, 3, 3)\n",
    "ax.set_axis_off()\n",
    "dem1000_map = gj.Map(filename=\"output/dem1000_map.png\", use_region=True)\n",
    "dem1000_map.d_rast(map=\"elevation1000m\")\n",
    "dem1000_map.d_vect(map=\"roadsmajor\", color=\"black\")\n",
    "dem1000_map.d_region_grid(raster=\"elevation1000m\", color=\"black\")\n",
    "dem1000_map.show()\n",
    "img3 = Image.open(\"output/dem1000_map.png\")\n",
    "plt.imshow(img3)\n",
    "ax.set_title(\"1000m\", {\"fontsize\": 24, \"fontweight\": \"bold\"})\n",
    "\n",
    "\n",
    "ax = fig.add_subplot(1, 3, 1)\n",
    "fig.subplots_adjust(hspace=0, wspace=0.1)\n",
    "ax.set_axis_off()\n",
    "dem250_hist = gj.Map(filename=\"output/dem250_hist.png\", use_region=True)\n",
    "dem250_hist.d_histogram(map=\"elevation250m\")\n",
    "img4 = Image.open(\"output/dem250_hist.png\") \n",
    "plt.imshow(img4)\n",
    "\n",
    "ax = fig.add_subplot(1, 3, 2)\n",
    "ax.set_axis_off()\n",
    "dem500_hist = gj.Map(filename=\"output/dem500_hist.png\", use_region=True)\n",
    "dem500_hist.d_histogram(map=\"elevation500m\")\n",
    "dem500_hist.show()\n",
    "img5 = Image.open(\"output/dem500_hist.png\")\n",
    "plt.imshow(img5)\n",
    "\n",
    "\n",
    "ax = fig.add_subplot(1, 3, 3)\n",
    "ax.set_axis_off()\n",
    "dem1000_hist = gj.Map(filename=\"output/dem1000_hist.png\", use_region=True)\n",
    "dem1000_hist.d_histogram(map=\"elevation1000m\")\n",
    "dem1000_hist.show()\n",
    "img6 = Image.open(\"output/dem1000_hist.png\")\n",
    "plt.imshow(img6)\n",
    "\n",
    "plt.tight_layout()\n",
    "plt.show()\n",
    "\n"
   ]
  },
  {
   "cell_type": "markdown",
   "metadata": {},
   "source": [
    "Let's look at what they look like all together."
   ]
  },
  {
   "cell_type": "code",
   "execution_count": null,
   "metadata": {},
   "outputs": [],
   "source": [
    "# Create the map object\n",
    "dem_map = gj.Map()\n",
    "\n",
    "# Add the elevation raster to the map\n",
    "dem_map.d_rast(map=\"elevation\")\n",
    "\n",
    "# Add the roads vector to the map and draw the lines black\n",
    "dem_map.d_vect(map=\"roadsmajor\", color=\"black\")\n",
    "\n",
    "# Draw a grid of the computational regions\n",
    "dem_map.d_region_grid(raster=\"elevation250m\")\n",
    "dem_map.d_region_grid(raster=\"elevation500m\", color=\"#9B520D\")\n",
    "dem_map.d_region_grid(raster=\"elevation1000m\", color=\"black\")\n",
    "\n",
    "# Display the map\n",
    "dem_map.show()"
   ]
  },
  {
   "cell_type": "markdown",
   "metadata": {},
   "source": [
    "Let's now look at what happends when we resample `discete` raster data like `landuse`.\n",
    "\n",
    "This time we will use a `python` function to simplify the workflow."
   ]
  },
  {
   "cell_type": "code",
   "execution_count": null,
   "metadata": {},
   "outputs": [],
   "source": [
    "# Install r.boxplot add-on\n",
    "gs.run_command(\"g.extension\", extension=\"r.boxplot\")\n",
    "\n",
    "def discrete_resample(raster, resolutions):\n",
    "    for res in resolutions:\n",
    "        output = f\"{raster}{res}m\"\n",
    "        output_int = f\"{raster}{res}m_int\"\n",
    "        elevation=f\"elevation{res}m\"\n",
    "        boxplot_output = f\"output/{output}_bp.png\"\n",
    "        expression = f\"{output_int} = int({output})\"\n",
    "        # Change the resolution of the computational region.\n",
    "        gs.run_command(\"g.region\", raster=\"elevation\", res=res, flags=\"pa\")\n",
    "        gs.run_command(\"r.resamp.interp\", input=raster, output=output, method=\"nearest\")\n",
    "        # Convert output to CELL (integer format)\n",
    "        gs.run_command(\"r.mapcalc\", expression=expression)\n",
    "        gs.run_command(\"r.colors\", map=output_int, raster=raster)\n",
    "        gs.run_command(\"r.category\", map=output_int, raster=raster)\n",
    "\n",
    "        # Create a box plot\n",
    "        gs.run_command(\"r.boxplot\", input=elevation, zones=output_int, raster_statistics=\"median,IQR\", output=boxplot_output, quiet=True, flags=\"c\")\n",
    "\n",
    "discrete_resample(\"landuse\", [250, 500, 1000])\n",
    "region = gs.read_command(\"g.region\", raster=\"elevation\", res=10, flags=\"pa\")\n",
    "print(region)"
   ]
  },
  {
   "cell_type": "code",
   "execution_count": null,
   "metadata": {},
   "outputs": [],
   "source": [
    "fig = plt.figure(figsize=(25, 30))\n",
    "fig.subplots_adjust(hspace=0, wspace=0.1)\n",
    "\n",
    "\n",
    "\n",
    "ax = fig.add_subplot(2, 3, 1)\n",
    "ax.set_axis_off()\n",
    "landuse250_map = gj.Map(filename=\"output/landuse250_map.png\", use_region=True)\n",
    "landuse250_map.d_rast(map=\"landuse250m\")\n",
    "landuse250_map.d_vect(map=\"roadsmajor\", color=\"black\")\n",
    "landuse250_map.d_region_grid(raster=\"landuse250m\")\n",
    "img1 = Image.open(\"output/landuse250_map.png\") \n",
    "plt.imshow(img1)\n",
    "ax.set_title(\"250m\", {\"fontsize\": 24, \"fontweight\": \"bold\"})\n",
    "\n",
    "ax = fig.add_subplot(2, 3, 2)\n",
    "ax.set_axis_off()\n",
    "landuse500_map = gj.Map(filename=\"output/landuse500_map.png\", use_region=True)\n",
    "landuse500_map.d_rast(map=\"landuse500m\")\n",
    "landuse500_map.d_vect(map=\"roadsmajor\", color=\"black\")\n",
    "landuse500_map.d_region_grid(raster=\"landuse500m\", color=\"#9B520D\")\n",
    "landuse500_map.show()\n",
    "img2 = Image.open(\"output/landuse500_map.png\")\n",
    "plt.imshow(img2)\n",
    "ax.set_title(\"500m\", {\"fontsize\": 24, \"fontweight\": \"bold\"})\n",
    "\n",
    "\n",
    "ax = fig.add_subplot(2, 3, 3)\n",
    "ax.set_axis_off()\n",
    "landuse1000_map = gj.Map(filename=\"output/landuse1000_map.png\", use_region=True)\n",
    "landuse1000_map.d_rast(map=\"landuse1000m\")\n",
    "landuse1000_map.d_vect(map=\"roadsmajor\", color=\"black\")\n",
    "landuse1000_map.d_region_grid(raster=\"landuse1000m\", color=\"black\")\n",
    "landuse1000_map.show()\n",
    "img3 = Image.open(\"output/landuse1000_map.png\")\n",
    "plt.imshow(img3)\n",
    "ax.set_title(\"1000m\", {\"fontsize\": 24, \"fontweight\": \"bold\"})\n",
    "\n",
    "\n",
    "ax = fig.add_subplot(1, 3, 1)\n",
    "fig.subplots_adjust(hspace=0, wspace=0.1)\n",
    "ax.set_axis_off()\n",
    "img4 = Image.open(\"output/landuse250m_bp.png\") \n",
    "plt.imshow(img4)\n",
    "\n",
    "ax = fig.add_subplot(1, 3, 2)\n",
    "ax.set_axis_off()\n",
    "img5 = Image.open(\"output/landuse500m_bp.png\")\n",
    "plt.imshow(img5)\n",
    "\n",
    "\n",
    "ax = fig.add_subplot(1, 3, 3)\n",
    "ax.set_axis_off()\n",
    "img6 = Image.open(\"output/landuse1000m_bp.png\")\n",
    "plt.imshow(img6)\n",
    "\n",
    "plt.tight_layout()\n",
    "plt.show()"
   ]
  },
  {
   "cell_type": "markdown",
   "metadata": {
    "id": "drspKKBWoEoO"
   },
   "source": [
    "### Date Visualization"
   ]
  },
  {
   "cell_type": "markdown",
   "metadata": {},
   "source": [
    "#### Static Map"
   ]
  },
  {
   "cell_type": "code",
   "execution_count": null,
   "metadata": {
    "colab": {
     "base_uri": "https://localhost:8080/",
     "height": 679
    },
    "id": "-n1mtdHExKxt",
    "outputId": "a7ece48a-f114-4879-eefd-fd1481db61a9"
   },
   "outputs": [],
   "source": [
    "dem_map = gj.Map()\n",
    "\n",
    "dem_map.d_rast(map=\"elevation\")\n",
    "dem_map.d_vect(map=\"roadsmajor\", color=\"black\")\n",
    "dem_map.d_legend(raster=\"elevation\", at=(2,50,2,9))\n",
    "dem_map.d_vect(map=\"roadsmajor\", color=\"black\")\n",
    "dem_map.show()"
   ]
  },
  {
   "cell_type": "markdown",
   "metadata": {},
   "source": [
    "#### Histogram"
   ]
  },
  {
   "cell_type": "code",
   "execution_count": null,
   "metadata": {},
   "outputs": [],
   "source": [
    "dem_hist = gj.Map()\n",
    "dem_hist.d_histogram(map=\"elevation\")\n",
    "dem_hist.show()"
   ]
  },
  {
   "cell_type": "markdown",
   "metadata": {
    "id": "ziQXYb8koEoO"
   },
   "source": [
    "#### Shaded Relief"
   ]
  },
  {
   "cell_type": "markdown",
   "metadata": {},
   "source": [
    "Let's calcuate our aspect map to use for our relief map"
   ]
  },
  {
   "cell_type": "code",
   "execution_count": null,
   "metadata": {
    "id": "OC3-lIIBoEoO"
   },
   "outputs": [],
   "source": [
    "gs.run_command(\n",
    "    \"r.slope.aspect\",\n",
    "    elevation=\"elevation\",\n",
    "    slope=\"slope\",\n",
    "    aspect=\"aspect\",\n",
    "    dx=\"dx\",\n",
    "    dy=\"dy\",\n",
    "    overwrite=True\n",
    ")"
   ]
  },
  {
   "cell_type": "markdown",
   "metadata": {},
   "source": [
    "##### Aspect\n",
    "\n",
    "Aspect shows the direction (e.g., n, e, s, w)"
   ]
  },
  {
   "cell_type": "code",
   "execution_count": null,
   "metadata": {},
   "outputs": [],
   "source": [
    "aspect_map = gj.Map()\n",
    "aspect_map.d_rast(map=\"aspect\")\n",
    "aspect_map.show()"
   ]
  },
  {
   "cell_type": "markdown",
   "metadata": {},
   "source": [
    "#### Shaded Releif Map"
   ]
  },
  {
   "cell_type": "code",
   "execution_count": null,
   "metadata": {},
   "outputs": [],
   "source": [
    "dem_map = gj.Map()\n",
    "dem_map.d_shade(color=\"elevation\", shade=\"aspect\")\n",
    "dem_map.d_legend(raster=\"elevation\", at=(5,50,5,9), flags=\"b\")\n",
    "dem_map.d_barscale(at=(50,7,1,1), flags=\"n\")\n",
    "dem_map.show()"
   ]
  },
  {
   "cell_type": "markdown",
   "metadata": {},
   "source": [
    "#### Visualize Data in 3D"
   ]
  },
  {
   "cell_type": "code",
   "execution_count": null,
   "metadata": {},
   "outputs": [],
   "source": [
    "elevation_3dmap = gj.Map3D()\n",
    "# Full list of options m.nviz.image\n",
    "# https://grass.osgeo.org/grass83/manuals/m.nviz.image.html\n",
    "elevation_3dmap.render(\n",
    "    elevation_map=\"elevation\",\n",
    "    color_map=\"elevation\",\n",
    "    perspective=20,\n",
    "    height=3000,\n",
    "    vline=\"roadsmajor\",\n",
    "    vline_color=\"blue\",\n",
    "    vpoint=\"hospitals\",\n",
    "    vpoint_color=\"red\",\n",
    "    vpoint_marker=\"https://earth.nullschool.netsphere\",\n",
    "    vpoint_size=200,\n",
    "    fringe=['ne','nw','sw','se'],\n",
    "    arrow_position=[100,50],\n",
    ")\n",
    "elevation_3dmap.overlay.d_legend(raster=\"elevation\", at=(60, 97, 87, 92))\n",
    "elevation_3dmap.show()"
   ]
  },
  {
   "cell_type": "markdown",
   "metadata": {},
   "source": [
    "#### Interactive Maps"
   ]
  },
  {
   "cell_type": "code",
   "execution_count": null,
   "metadata": {},
   "outputs": [],
   "source": [
    "elevation_map = gj.InteractiveMap()\n",
    "elevation_map.add_raster(\"elevation\")\n",
    "elevation_map.show()"
   ]
  },
  {
   "cell_type": "markdown",
   "metadata": {
    "id": "ab4uiEi1oEoP"
   },
   "source": [
    "### Watershed Analysis"
   ]
  },
  {
   "cell_type": "code",
   "execution_count": null,
   "metadata": {
    "id": "1tgsZFuuoEoP"
   },
   "outputs": [],
   "source": [
    "gs.run_command(\"r.watershed\", \n",
    "               elevation=\"elevation\", \n",
    "               threshold=10000,\n",
    "               accumulation=\"accum10k\",\n",
    "               drainage=\"direction10k\",\n",
    "               basin=\"basins10k\", \n",
    "               stream=\"streams10k\", \n",
    "               memory=300\n",
    "            )"
   ]
  },
  {
   "cell_type": "code",
   "execution_count": null,
   "metadata": {},
   "outputs": [],
   "source": [
    "accum10k_map = gj.Map()\n",
    "accum10k_map.d_rast(map=\"basins10k\")\n",
    "accum10k_map.d_shade(color=\"basins10k\", shade=\"aspect\")\n",
    "accum10k_map.d_barscale(at=(50,7,1,1), flags=\"n\")\n",
    "accum10k_map.show()"
   ]
  },
  {
   "cell_type": "markdown",
   "metadata": {},
   "source": [
    "### Create a new Project (Location and Mapset)\n",
    "\n",
    "### Importing Data\n",
    "\n",
    "### Where can I get my own geospatial data?\n",
    "\n",
    "#### North Carolina Online Data Portals\n",
    "\n",
    "* [NC OneMap](https://www.nconemap.gov/)\n",
    "* [Durham OpenData Portal](https://live-durhamnc.opendata.arcgis.com/)"
   ]
  },
  {
   "cell_type": "code",
   "execution_count": null,
   "metadata": {},
   "outputs": [],
   "source": [
    "# Point Data\n",
    "hospitals = \"https://webgis2.durhamnc.gov/server/rest/services/PublicServices/Community/MapServer/0/query?outFields=*&where=1%3D1\"\n",
    "schools = \"https://webgis2.durhamnc.gov/server/rest/services/PublicServices/Education/MapServer/0/query?outFields=*&where=1%3D1&f=geojson\"\n",
    "\n",
    "# Line Data\n",
    "roads = \"https://webgis2.durhamnc.gov/server/rest/services/PublicServices/Transportation/MapServer/6/query?outFields=*&where=1%3D1\"\n",
    "greenways = \"https://webgis2.durhamnc.gov/server/rest/services/ProjectServices/Trans_ExistingFutureBikePedFacilities/MapServer/1/query?outFields=*&where=1%3D1\"\n",
    "sidewalks = \"https://webgis2.durhamnc.gov/server/rest/services/PublicServices/Community/MapServer/5/query?outFields=*&where=1%3D1\"\n",
    "\n",
    "# Polygon Datahttps://earth.nullschool.net\n",
    "zipcodes = \"https://webgis2.durhamnc.gov/server/rest/services/PublicServices/Administrative/MapServer/0/query?outFields=*&where=1%3D1\"\n",
    "county_boundary = \"https://webgis2.durhamnc.gov/server/rest/services/PublicServices/Administrative/MapServer/2/query?outFields=*&where=1%3D1\"\n",
    "durham_city_boundary = \"https://webgis2.durhamnc.gov/server/rest/services/PublicServices/Administrative/MapServer/1/query?outFields=*&where=1%3D1\"\n",
    "school_districts = \"https://webgis2.durhamnc.gov/server/rest/services/PublicServices/Education/MapServer/1/query?outFields=*&where=1%3D1\"\n",
    "ncssm = \"https://services2.arcgis.com/G5vR3cOjh6g2Ed8E/arcgis/rest/services/Parcels/FeatureServer/0/query?outFields=*&where=OBJECTID%3D5653314&f=geojson\""
   ]
  },
  {
   "cell_type": "code",
   "execution_count": null,
   "metadata": {},
   "outputs": [],
   "source": [
    "gs.run_command(\"v.import\",\n",
    "            input=ncssm,\n",
    "            layer=\"OGRGeoJSON\",\n",
    "            extent=\"input\",\n",
    "            output=\"ncssm\",\n",
    "            overwrite=True\n",
    ")"
   ]
  },
  {
   "cell_type": "code",
   "execution_count": null,
   "metadata": {},
   "outputs": [],
   "source": [
    "gs.run_command(\"g.region\", raster=\"ncssm_ql2_3m\", res=3, flags=\"ap\")\n",
    "gs.run_command(\"r.colors\", map=\"ncssm_ql2_3m\", color=\"elevation\")\n",
    "map = gj.Map()\n",
    "map.d_rast(map=\"ncssm_ql2_3m\")\n",
    "map.d_vect(map=\"ncssm\")\n",
    "map.d_legend(raster=\"ncssm_ql2_3m\", at=(5,70,2,9))\n",
    "map.d_barscale(at=(50fringe_elevation,20,1,2), flags=\"n\")\n",
    "map.show()"
   ]
  },
  {
   "cell_type": "code",
   "execution_count": null,
   "metadata": {},
   "outputs": [],
   "source": [
    "elevation_3dmap = gj.Map3D()\n",
    "# Full list of options m.nviz.image\n",
    "# https://grass.osgeo.org/grass83/manuals/m.nviz.image.html\n",
    "elevation_3dmap.render(\n",
    "    elevation_map=\"ncssm_ql2_3m\",\n",
    "    color_map=\"ncssm_ql2_3m\",\n",
    "    perspective=20,\n",
    "    height=4000,\n",
    "    # vline=\"roadsmajor\",\n",
    "    # vline_color=\"bluuse_regione\",\n",
    "    resolution_fine=1,\n",
    "    vpoint=\"schools\",\n",
    "    vpoint_color=\"red\",\n",
    "    vpoint_marker=\"sphere\",\n",
    "    vpoint_size=200,\n",
    "    fringe=['ne','nw','sw','se'],\n",
    "    arrow_position=[100,50],\n",
    ")\n",
    "elevation_3dmap.overlay.d_legend(raster=\"ncssm_ql2_3m\", at=(60, 97, 87, 92))\n",
    "elevation_3dmap.show()"
   ]
  },
  {
   "cell_type": "markdown",
   "metadata": {},
   "source": [
    "## Import bare earth lidar data"
   ]
  },
  {
   "cell_type": "code",
   "execution_count": null,
   "metadata": {},
   "outputs": [],
   "source": [
    "gs.run_command(\"g.region\", res=1, flags=\"ap\")\n",
    "gs.run_command(\"v.in.pdal\",\n",
    "               input=\"./data/175003_1.las\",\n",
    "               output=\"ncssm_lidar_be_pts\",\n",
    "               flags=\"w\",\n",
    "               class_filter=\"2,13\",\n",
    "               overwrite=True\n",
    "        )"
   ]
  },
  {
   "cell_type": "markdown",
   "metadata": {},
   "source": [
    "### Interpolate Data to 1m DTM"
   ]
  },
  {
   "cell_type": "code",
   "execution_count": null,
   "metadata": {},
   "outputs": [],
   "source": [
    "gs.run_command(\"g.region\", raster=\"ncssm_ql2_3m\", res=1, flags=\"ap\")\n",
    "gs.run_command(\"v.surf.rst\", \n",
    "               input=\"ncssm_lidar_be_pts\", \n",
    "               elevation=\"ncssm_be_1m\",\n",
    "               mask=\"ncssm_ql2_3m\",\n",
    "               tension=10,\n",
    "               smooth=0.5,\n",
    "               nprocs=25,\n",
    "               overwrite=True\n",
    "              )"
   ]
  },
  {
   "cell_type": "code",
   "execution_count": null,
   "metadata": {},
   "outputs": [],
   "source": [
    "gs.run_command(\"r.colors\", map=\"ncssm_be_1m\", color=\"elevation\")\n",
    "\n",
    "elevation_3dmap = gj.Map3D()\n",
    "# Full list of options m.nviz.image\n",
    "# https://grass.osgeo.org/grass83/manuals/m.nviz.image.html\n",
    "elevation_3dmap.render(\n",
    "    elevation_map=\"ncssm_be_1m\",\n",
    "    color_map=\"ncssm_be_1m\",\n",
    "    perspective=20,\n",
    "    height=4000,\n",
    "    fringe=['ne','nw','sw','se'],\n",
    "    arrow_position=[100,50],\n",
    ")\n",
    "elevation_3dmap.overlay.d_legend(raster=\"ncssm_be_1m\", at=(60, 97, 87, 92))\n",
    "elevation_3dmap.show()"
   ]
  },
  {
   "cell_type": "markdown",
   "metadata": {},
   "source": [
    "## Import lidar data"
   ]
  },
  {
   "cell_type": "code",
   "execution_count": null,
   "metadata": {},
   "outputs": [],
   "source": [
    "gs.run_command(\"v.in.pdal\",\n",
    "               input=\"./data/175003_1.las\",\n",
    "               output=\"ncssm_lidar_pts\",\n",
    "               flags=\"w\",\n",
    "               overwrite=True\n",
    "        )"
   ]
  },
  {
   "cell_type": "code",
   "execution_count": null,
   "metadata": {},
   "outputs": [],
   "source": [
    "!v.info ncssm_lidar_lr_pts"
   ]
  },
  {
   "cell_type": "markdown",
   "metadata": {},
   "source": [
    "## Remove outliers"
   ]
  },
  {
   "cell_type": "code",
   "execution_count": null,
   "metadata": {},
   "outputs": [],
   "source": [
    "!v.outlier input=ncssm_lidar_pts output=ncssm_lidar_pts_clean outlier=ncssm_lidar_pts_pts_outliers threshold=25"
   ]
  },
  {
   "cell_type": "markdown",
   "metadata": {},
   "source": [
    "### Interpolate Data to 1m DTM"
   ]
  },
  {
   "cell_type": "code",
   "execution_count": null,
   "metadata": {},
   "outputs": [],
   "source": [
    "gs.run_command(\"g.region\", raster=\"ncssm_ql2_3m\", res=1, flags=\"ap\")\n",
    "gs.run_command(\"v.surf.rst\", \n",
    "               input=\"ncssm_lidar_pts_clean\", \n",
    "               elevation=\"ncssm_1m\",\n",
    "               mask=\"ncssm_ql2_3m\",\n",
    "               tension=40,\n",
    "               smooth=0.5,\n",
    "               nprocs=25,\n",
    "               overwrite=True\n",
    "              )"
   ]
  },
  {
   "cell_type": "code",
   "execution_count": null,
   "metadata": {},
   "outputs": [],
   "source": [
    "gs.run_command(\"g.region\", vector=\"ncssm\", res=1, align=\"ncssm_1m\", flags=\"p\")\n",
    "colormap = gj.Map(r.random input=landclass96 npoints=1000 raster=training_pixels)\n",
    "map.d_rast(map=\"ncssm_1m\")\n",
    "map.d_legend(raster=\"ncssm_1m\", at=(5,70,2,9))\n",
    "map.d_barscale(at=(50,20,1,2), flags=\"n\")\n",
    "map.show()"
   ]
  },
  {
   "cell_type": "code",
   "execution_count": null,
   "metadata": {},
   "outputs": [],
   "source": [
    "elevation_3dmap = gj.Map3D(use_region=False)\n",
    "# Full list of options m.nviz.image\n",
    "# https://grass.osgeo.org/grass83/manuals/m.nviz.image.html\n",
    "elevation_3dmap.render(\n",
    "    elevation_map=\"ncssm_1m\",\n",
    "    color_map=\"ncssm_1m\",\n",
    "    perspective=20,\n",
    "    height=3000,\n",
    "    resolution_fine=1,\n",
    "    # vline=\"roadsmajor\",\n",
    "    # vline_color=\"blue\",\n",
    "    # vpoint=\"hospitals\",\n",
    "    # vpoint_color=\"red\",\n",
    "    # vpoint_marker=\"sphere\",\n",
    "    # vpoint_size=200,\n",
    "    zexag=1,\n",
    "    fringe=['ne','nw','sw','se'],\n",
    "    fringe_elevation=10,\n",
    "    arrow_position=[100,50],\n",
    ")\n",
    "elevation_3dmap.overlay.d_legend(raster=\"ncssm_1m\", at=(60, 97, 87, 92))\n",
    "elevation_3dmap.show()"
   ]
  },
  {
   "cell_type": "code",
   "execution_count": null,
   "metadata": {},
   "outputs": [],
   "source": [
    "gs.run_command(\"g.region\", raster=\"ncssm_1m\", res=1, flags=\"ap\")\n",
    "\n",
    "gs.run_command(\n",
    "    \"r.slope.aspect\",\n",
    "    elevation=\"ncssm_1m\",\n",
    "    # slope=\"ncssm_1m_slope\",\n",
    "    aspect=\"ncssm_1m_aspect\",\n",
    "    # dx=\"dx\",\n",
    "    # dy=\"dy\",\n",
    "    overwrite=True\n",
    ")\n",
    "\n",
    "dem_map = gj.Map()\n",
    "dem_map.d_shade(color=\"ncssm_1m\", shade=\"ncssm_1m_aspect\")\n",
    "dem_map.d_legend(raster=\"ncssm_1m\", at=(5,50,5,9), flags=\"b\")\n",
    "dem_map.d_barscale(at=(50,7,1,1), flags=\"n\")\n",
    "dem_map.show()"
   ]
  },
  {
   "cell_type": "code",
   "execution_count": null,
   "metadata": {},
   "outputs": [],
   "source": [
    "gs.run_command(\"g.extension\", extension=\"r.sun.daily\")"
   ]
  },
  {
   "cell_type": "code",
   "execution_count": null,
   "metadata": {},
   "outputs": [],
   "source": [
    "!r.sun.daily elevation=ncssm_1m start_day=1 end_day=365 day_step=1 beam_rad_basename=beam beam_rad=beam_sum insol_time=insol_time_sum insol_time_basename=insol_time nprocs=4 -t\n",
    "!t.rast.mapcalc input=insol_time output=shadow basename=shadow expression='if(isnull(insol_time), 1, null())' "
   ]
  },
  {
   "cell_type": "code",
   "execution_count": null,
   "metadata": {},
   "outputs": [],
   "source": [
    "beam_ts_map = gj.TimeSeriesMap(height=600, width=600)\n",
    "OnsOnsOnsOnsbeam_ts_map.add_raster_series(\"insol_time\")\n",
    "beam_ts_map.d_legend(raster=\"insol_time_sum\", title=\"Wh.m-2.day-1\")\n",
    "beam_ts_map.render()\n",
    "beam_ts_map.save(\"./output/shadow_ts_map.gif\")\n",
    "beam_ts_map.show()"
   ]
  },
  {
   "cell_type": "code",
   "execution_count": null,
   "metadata": {},
   "outputs": [],
   "source": [
    "gs.run_command(\"g.region\", raster=\"ncssm_ql2_3m\", res=1, flags=\"ap\")\n",
    "!r.composite blue=nc_m_3607857_se_17_060_20220914.m_3607857_se_17_060_20220914.2 green=nc_m_3607857_se_17_060_20220914.m_3607857_se_17_060_20220914.3 red=nc_m_3607857_se_17_060_20220914.m_3607857_se_17_060_20220914.1 output=naip_2022_rgb"
   ]
  },
  {
   "cell_type": "code",
   "execution_count": null,
   "metadata": {},
   "outputs": [],
   "source": [
    "dem_map = gj.Map()\n",
    "dem_map.d_rast(map=\"OnsOns\")\n",
    "dem_map.d_barscale(at=(50,7,1,1), flags=\"n\")\n",
    "dem_map.show()"
   ]
  },
  {
   "cell_type": "code",
   "execution_count": null,
   "metadata": {},
   "outputs": [],
   "source": [
    "!i.vi red=nc_m_3607857_se_17_060_20220914.m_3607857_se_17_060_20220914.1 nir=nc_m_3607857_se_17_060_20220914.m_3607857_se_17_060_20220914.4 output=naip_ndvi_2022"
   ]
  },
  {
   "cell_type": "code",
   "execution_count": null,
   "metadata": {},
   "outputs": [],
   "source": [
    "dem_map = gj.Map()\n",
    "# dem_map.d_rast(map=\"naip_ndvi_2022\")\n",
    "dem_map.d_shade(color=\"naip_ndvi_2022\", shade=\"ncssm_1m_aspect\")\n",
    "dem_map.d_legend(raster=\"naip_ndvi_2022\", at=(5,50,5,9), flags=\"b\")\n",
    "dem_map.d_barscale(at=(50,7,1,1), flags=\"n\")\n",
    "dem_map.show()"
   ]
  },
  {
   "cell_type": "code",
   "execution_count": null,
   "metadata": {},
   "outputs": [],
   "source": [
    "!i.vi red=nc_m_3607857_se_17_060_20200711.m_3607857_se_17_060_20200711.1 nir=nc_m_3607857_se_17_060_20200711.m_3607857_se_17_060_20200711.4 output=naip_ndvi_2020"
   ]
  },
  {
   "cell_type": "code",
   "execution_count": null,
   "metadata": {},
   "outputs": [],
   "source": [
    "dem_map = gj.Map()\n",
    "dem_map.d_shade(color=\"naip_ndvi_2020\", shade=\"ncssm_1m_aspect\")\n",
    "dem_map.d_legend(raster=\"naip_ndvi_2020\", at=(5,50,5,9), flags=\"b\")\n",
    "dem_map.d_barscale(at=(50,7,1,1), flags=\"n\")\n",
    "dem_map.show()"
   ]
  },
  {
   "cell_type": "code",
   "execution_count": null,
   "metadata": {},
   "outputs": [],
   "source": [
    "# Convert NDVI to Manning's N\n",
    "!r.mapcalc \"mannings_n = if(naip_ndvi_2022 < 0.1, 0.15, if(naip_ndvi_2022 < 0.4, 0.1, 0.08))\"\n",
    "\n",
    "# Variable Rainfall in mm/hr\n",
    "!r.mapcalc \"rainfall = if(naip_ndvi_2022 < 0.1, 79.25, if(naip_ndvi_2022 < 0.4, 50.0, 10.0))\""
   ]
  },
  {
   "cell_type": "code",
   "execution_count": null,
   "metadata": {},
   "outputs": [],
   "source": [
    "gs.run_command(\"g.region\", raster=\"ncssm_be_1m\", res=1, flags=\"ap\")\n",
    "# gs.run_command(\n",
    "#     \"r.slope.aspect\",\n",
    "#     elevation=\"ncssm_be_1m\",\n",
    "#     dx=\"dx\",\n",
    "#     dy=\"dy\",\n",
    "#     overwrite=True\n",
    "# )\n",
    "\n",
    "gs.run_command(\"r.sim.water\",\n",
    "               flags=\"t\",\n",
    "               elevation=\"ncssm_be_1m\",\n",
    "               dx=\"dx\",\n",
    "               dy=\"dy\",\n",
    "               # rain_value=50,\n",
    "               infil_value=0,\n",
    "               # man_value=0.05,\n",
    "               depth=\"twdp\",\n",
    "               discharge=\"tdisch\",\n",
    "               nwalkers=100000,\n",
    "               niterations=30, \n",
    "               output_step=2,\n",
    "               rain=\"rainfall\",\n",
    "               man=\"mannings_n\",\n",
    "               nprocs=30,\n",
    "               overwrite=True\n",
    "              )"
   ]
  },
  {
   "cell_type": "code",
   "execution_count": null,
   "metadata": {},
   "outputs": [],
   "source": [
    "gs.run_command(\n",
    "    \"t.create\",\n",
    "    output=\"tdepth_sum\",\n",
    "    type=\"strds\",\n",
    "    temporaltype=\"absolute\",\n",
    "    title=\"Runoff Depth\",\n",
    "    description=\"Runoff Depth in [m]\",\n",
    ")\n",
    "\n",
    "depth_list = gs.read_command(\n",
    "    \"g.list\", type=\"raster\", pattern=\"twdp.*\", separator=\"comma\"\n",
    ").strip()\n",
    "\n",
    "\n",
    "gs.run_command(\n",
    "    \"t.register\",\n",
    "    input=\"tdepth_sum\",\n",
    "    type=\"raster\",\n",
    "    start=\"2023-01-01\",\n",
    "    increment=\"2 minutes\",\n",
    "    maps=depth_list,\n",
    "    flags=\"i\",\n",
    ")"
   ]
  },
  {
   "cell_type": "code",
   "execution_count": null,
   "metadata": {},
   "outputs": [],
   "source": [
    "gs.run_command(\"g.region\", raster=\"ncssm_be_1m\", res=1, flags=\"ap\")\n",
    "depth_sum_ts_map = gj.TimeSeriesMap(height=600, width=600, use_region=True)\n",
    "depth_sum_ts_map.add_raster_series(\"depth_sum\")\n",
    "depth_sum_ts_map.d_legend()\n",
    "depth_sum_ts_map.render()\n",
    "depth_sum_ts_map.save(\"output/depth_sum.gif\")\n",
    "depth_sum_ts_map.show()"
   ]
  },
  {
   "cell_type": "code",
   "execution_count": null,
   "metadata": {},
   "outputs": [],
   "source": [
    "gs.run_command(\"g.region\", raster=\"ncssm_be_1m\", res=1, flags=\"ap\")\n",
    "depth_sum_ts_map = gj.TimeSeriesMap(height=1000, width=1000, use_region=True)\n",
    "depth_sum_ts_map.add_raster_series(\"tdepth_sum\")\n",
    "depth_sum_ts_map.d_legend()\n",
    "depth_sum_ts_map.render()\n",
    "depth_sum_ts_map.save(\"output/tdepth_sum.gif\")\n",
    "depth_sum_ts_map.show()"
   ]
  },
  {
   "cell_type": "code",
   "execution_count": null,
   "metadata": {},
   "outputs": [],
   "source": [
    "dem_map = gj.Map(width=900)\n",
    "dem_map.d_shade(color=\"naip_ndvi_2022\", shade=\"ncssm_1m_aspect\")\n",
    "dem_map.d_rast(map=\"twdp.14\", values=\"0.05-3.8\")\n",
    "dem_map.d_legend(raster=\"twdp.14\", at=(5,50,5,9), flags=\"b\")\n",
    "dem_map.d_barscale(at=(50,7,1,1), flags=\"n\")\n",
    "dem_map.show()"
   ]
  },
  {
   "cell_type": "code",
   "execution_count": null,
   "metadata": {},
   "outputs": [],
   "source": [
    "dem_map = gj.Map(width=900)\n",
    "dem_map.d_shade(color=\"naip_ndvi_2022\", shade=\"ncssm_1m_aspect\")\n",
    "dem_map.d_rast(map=\"twdp.06\", values=\"0.05-3.8\")\n",
    "dem_map.d_legend(raster=\"twdp.06\", at=(5,50,5,9), flags=\"b\")\n",
    "dem_map.d_barscale(at=(50,7,1,1), flags=\"n\")\n",
    "dem_map.show()"
   ]
  },
  {
   "cell_type": "code",
   "execution_count": null,
   "metadata": {},
   "outputs": [],
   "source": [
    "elevation_3dmap = gj.Map3D(use_region=False)\n",
    "# Full list of options m.nviz.image\n",
    "# https://grass.osgeo.org/grass83/manuals/m.nviz.image.html\n",
    "elevation_3dmap.render(\n",
    "    elevation_map=\"ncssm_be_1m\",\n",
    "    color_map=\"twdp.30\",\n",
    "    perspective=10,\n",
    "    height=2000,\n",
    "    resolution_fine=2,\n",
    "    zexag=1,\n",
    "    fringe=['ne','nw','sw','se'],\n",
    "    fringe_elevation=10,\n",
    "    arrow_position=[100,50],\n",
    ")\n",
    "elevation_3dmap.overlay.d_legend(raster=\"wdp.30\", at=(60, 97, 87, 92))\n",
    "elevation_3dmap.show()"
   ]
  },
  {
   "cell_type": "code",
   "execution_count": null,
   "metadata": {},
   "outputs": [],
   "source": [
    "gs.run_command(\"g.region\", vector=\"ncssm\", res=1, align=\"ncssm_1m\", flags=\"p\")\n",
    "dem_map = gj.Map(use_region=True, width=500)\n",
    "dem_map.d_shade(color=\"naip_ndvi_2022\", shade=\"ncssm_1m_aspect\")\n",
    "dem_map.d_rast(map=\"twdp.14\", values=\"0.05-3.8\")\n",
    "# dem_map.d_legend(raster=\"twdp.14\", at=(5,50,5,9), flags=\"b\")\n",
    "dem_map.d_barscale(at=(50,7,1,1), flags=\"n\")\n",
    "dem_map.show()"
   ]
  },
  {
   "cell_type": "code",
   "execution_count": null,
   "metadata": {},
   "outputs": [],
   "source": [
    "gs.run_command(\"g.region\", raster=\"ncssm_be_1m\", res=1, flags=\"ap\")\n",
    "gs.run_command(\"r.watershed\", \n",
    "               elevation=\"ncssm_be_1m\", \n",
    "               threshold=10000,\n",
    "               accumulation=\"ncssm_accum10k\",\n",
    "               drainage=\"ncssm_direction10k\",\n",
    "               basin=\"ncssm_basins10k\", \n",
    "               stream=\"ncssm_streams10k\", \n",
    "               memory=3000\n",
    "            )"
   ]
  },
  {
   "cell_type": "code",
   "execution_count": null,
   "metadata": {},
   "outputs": [],
   "source": [
    "accum10k_map = gj.Map()\n",
    "accum10k_map.d_rast(map=\"ncssm_basins10k\")\n",
    "accum10k_map.d_shade(color=\"ncssm_basins10k\", shade=\"ncssm_1m_aspect\")\n",
    "accum10k_map.d_barscale(at=(50,7,1,1), flags=\"n\")\n",
    "accum10k_map.show()"
   ]
  },
  {
   "cell_type": "code",
   "execution_count": null,
   "metadata": {},
   "outputs": [],
   "source": [
    "accum10k_map = gj.Map()\n",
    "accum10k_map.d_rast(map=\"ncssm_accum10k\")\n",
    "# accum10k_map.d_shade(color=\"ncssm_accum10k\", shade=\"ncssm_1m_aspect\")\n",
    "accum10k_map.d_barscale(at=(50,7,1,1), flags=\"n\")\n",
    "accum10k_map.show()"
   ]
  },
  {
   "cell_type": "markdown",
   "metadata": {},
   "source": [
    "## Install Add-Ons\n",
    "\n",
    "[Add-On Index](https://grass.osgeo.org/grass82/manuals/addons/index.html)\n"
   ]
  },
  {
   "cell_type": "code",
   "execution_count": null,
   "metadata": {},
   "outputs": [],
   "source": []
  }
 ],
 "metadata": {
  "colab": {
   "include_colab_link": true,
   "provenance": []
  },
  "kernelspec": {
   "display_name": "Python 3 (ipykernel)",
   "language": "python",
   "name": "python3"
  },
  "language_info": {
   "codemirror_mode": {
    "name": "ipython",
    "version": 3
   },
   "file_extension": ".py",
   "mimetype": "text/x-python",
   "name": "python",
   "nbconvert_exporter": "python",
   "pygments_lexer": "ipython3",
   "version": "3.10.12"
  }
 },
 "nbformat": 4,
 "nbformat_minor": 4
}
